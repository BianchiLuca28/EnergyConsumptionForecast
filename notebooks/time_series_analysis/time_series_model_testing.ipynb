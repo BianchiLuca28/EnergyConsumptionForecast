{
 "cells": [
  {
   "cell_type": "markdown",
   "metadata": {},
   "source": [
    "## Imports: libraries and dataset"
   ]
  },
  {
   "cell_type": "code",
   "execution_count": 117,
   "metadata": {},
   "outputs": [],
   "source": [
    "import pandas as pd\n",
    "import matplotlib.pyplot as plt\n",
    "from statsmodels.tsa.arima.model import ARIMA\n",
    "from statsmodels.tsa.statespace.sarimax import SARIMAX\n",
    "from sklearn.metrics import mean_absolute_error, mean_squared_error, r2_score\n",
    "import numpy as np\n",
    "import itertools\n",
    "from statsmodels.tsa.stattools import adfuller\n",
    "\n",
    "import statsmodels.api as sm\n",
    "import matplotlib.pyplot as plt\n",
    "from statsmodels.tsa.api import VAR"
   ]
  },
  {
   "cell_type": "code",
   "execution_count": 118,
   "metadata": {},
   "outputs": [],
   "source": [
    "# Load the dataset\n",
    "df = pd.read_csv('../../dataset/KAG_energydata_complete.csv')\n",
    "\n",
    "# Convert the 'date' column to datetime format and set it as the index\n",
    "df['date'] = pd.to_datetime(df['date'])\n",
    "df.set_index('date', inplace=True)"
   ]
  },
  {
   "cell_type": "markdown",
   "metadata": {},
   "source": [
    "## Arima model"
   ]
  },
  {
   "cell_type": "code",
   "execution_count": 139,
   "metadata": {},
   "outputs": [],
   "source": [
    "# Focusing on the 'Appliances' energy consumption\n",
    "series = df['Appliances']"
   ]
  },
  {
   "cell_type": "code",
   "execution_count": 140,
   "metadata": {},
   "outputs": [
    {
     "name": "stdout",
     "output_type": "stream",
     "text": [
      "ADF Statistic: -21.61637819803621\n",
      "p-value: 0.0\n"
     ]
    }
   ],
   "source": [
    "# Perform ADF test to check for stationarity\n",
    "result = adfuller(series)\n",
    "print('ADF Statistic:', result[0])\n",
    "print('p-value:', result[1])"
   ]
  },
  {
   "cell_type": "code",
   "execution_count": 141,
   "metadata": {},
   "outputs": [],
   "source": [
    "# If the p-value is greater than 0.05, difference the series\n",
    "if result[1] > 0.05:\n",
    "    series = series.diff().dropna()"
   ]
  },
  {
   "cell_type": "code",
   "execution_count": 142,
   "metadata": {},
   "outputs": [
    {
     "name": "stdout",
     "output_type": "stream",
     "text": [
      "Total combinations to evaluate: 27\n"
     ]
    }
   ],
   "source": [
    "# Parameter tuning for ARIMA using a smaller range for efficiency\n",
    "p = d = q = range(0, 3)\n",
    "best_aic = float(\"inf\")\n",
    "best_params = None\n",
    "num_combinations = len(list(itertools.product(p, d, q)))\n",
    "\n",
    "print(f\"Total combinations to evaluate: {num_combinations}\")"
   ]
  },
  {
   "cell_type": "code",
   "execution_count": 143,
   "metadata": {},
   "outputs": [
    {
     "name": "stdout",
     "output_type": "stream",
     "text": [
      "Evaluating combination 1/27: ARIMA(0, 0, 0)\n"
     ]
    },
    {
     "name": "stderr",
     "output_type": "stream",
     "text": [
      "/home/stas/.local/lib/python3.12/site-packages/statsmodels/tsa/base/tsa_model.py:473: ValueWarning: No frequency information was provided, so inferred frequency 10min will be used.\n",
      "  self._init_dates(dates, freq)\n",
      "/home/stas/.local/lib/python3.12/site-packages/statsmodels/tsa/base/tsa_model.py:473: ValueWarning: No frequency information was provided, so inferred frequency 10min will be used.\n",
      "  self._init_dates(dates, freq)\n",
      "/home/stas/.local/lib/python3.12/site-packages/statsmodels/tsa/base/tsa_model.py:473: ValueWarning: No frequency information was provided, so inferred frequency 10min will be used.\n",
      "  self._init_dates(dates, freq)\n"
     ]
    },
    {
     "name": "stdout",
     "output_type": "stream",
     "text": [
      "Evaluating combination 2/27: ARIMA(0, 0, 1)\n"
     ]
    },
    {
     "name": "stderr",
     "output_type": "stream",
     "text": [
      "/home/stas/.local/lib/python3.12/site-packages/statsmodels/tsa/base/tsa_model.py:473: ValueWarning: No frequency information was provided, so inferred frequency 10min will be used.\n",
      "  self._init_dates(dates, freq)\n",
      "/home/stas/.local/lib/python3.12/site-packages/statsmodels/tsa/base/tsa_model.py:473: ValueWarning: No frequency information was provided, so inferred frequency 10min will be used.\n",
      "  self._init_dates(dates, freq)\n",
      "/home/stas/.local/lib/python3.12/site-packages/statsmodels/tsa/base/tsa_model.py:473: ValueWarning: No frequency information was provided, so inferred frequency 10min will be used.\n",
      "  self._init_dates(dates, freq)\n"
     ]
    },
    {
     "name": "stdout",
     "output_type": "stream",
     "text": [
      "Evaluating combination 3/27: ARIMA(0, 0, 2)\n"
     ]
    },
    {
     "name": "stderr",
     "output_type": "stream",
     "text": [
      "/home/stas/.local/lib/python3.12/site-packages/statsmodels/tsa/base/tsa_model.py:473: ValueWarning: No frequency information was provided, so inferred frequency 10min will be used.\n",
      "  self._init_dates(dates, freq)\n",
      "/home/stas/.local/lib/python3.12/site-packages/statsmodels/tsa/base/tsa_model.py:473: ValueWarning: No frequency information was provided, so inferred frequency 10min will be used.\n",
      "  self._init_dates(dates, freq)\n",
      "/home/stas/.local/lib/python3.12/site-packages/statsmodels/tsa/base/tsa_model.py:473: ValueWarning: No frequency information was provided, so inferred frequency 10min will be used.\n",
      "  self._init_dates(dates, freq)\n"
     ]
    },
    {
     "name": "stdout",
     "output_type": "stream",
     "text": [
      "Evaluating combination 4/27: ARIMA(0, 1, 0)\n"
     ]
    },
    {
     "name": "stderr",
     "output_type": "stream",
     "text": [
      "/home/stas/.local/lib/python3.12/site-packages/statsmodels/tsa/base/tsa_model.py:473: ValueWarning: No frequency information was provided, so inferred frequency 10min will be used.\n",
      "  self._init_dates(dates, freq)\n",
      "/home/stas/.local/lib/python3.12/site-packages/statsmodels/tsa/base/tsa_model.py:473: ValueWarning: No frequency information was provided, so inferred frequency 10min will be used.\n",
      "  self._init_dates(dates, freq)\n",
      "/home/stas/.local/lib/python3.12/site-packages/statsmodels/tsa/base/tsa_model.py:473: ValueWarning: No frequency information was provided, so inferred frequency 10min will be used.\n",
      "  self._init_dates(dates, freq)\n"
     ]
    },
    {
     "name": "stdout",
     "output_type": "stream",
     "text": [
      "Evaluating combination 5/27: ARIMA(0, 1, 1)\n"
     ]
    },
    {
     "name": "stderr",
     "output_type": "stream",
     "text": [
      "/home/stas/.local/lib/python3.12/site-packages/statsmodels/tsa/base/tsa_model.py:473: ValueWarning: No frequency information was provided, so inferred frequency 10min will be used.\n",
      "  self._init_dates(dates, freq)\n",
      "/home/stas/.local/lib/python3.12/site-packages/statsmodels/tsa/base/tsa_model.py:473: ValueWarning: No frequency information was provided, so inferred frequency 10min will be used.\n",
      "  self._init_dates(dates, freq)\n",
      "/home/stas/.local/lib/python3.12/site-packages/statsmodels/tsa/base/tsa_model.py:473: ValueWarning: No frequency information was provided, so inferred frequency 10min will be used.\n",
      "  self._init_dates(dates, freq)\n"
     ]
    },
    {
     "name": "stdout",
     "output_type": "stream",
     "text": [
      "Evaluating combination 6/27: ARIMA(0, 1, 2)\n"
     ]
    },
    {
     "name": "stderr",
     "output_type": "stream",
     "text": [
      "/home/stas/.local/lib/python3.12/site-packages/statsmodels/tsa/base/tsa_model.py:473: ValueWarning: No frequency information was provided, so inferred frequency 10min will be used.\n",
      "  self._init_dates(dates, freq)\n",
      "/home/stas/.local/lib/python3.12/site-packages/statsmodels/tsa/base/tsa_model.py:473: ValueWarning: No frequency information was provided, so inferred frequency 10min will be used.\n",
      "  self._init_dates(dates, freq)\n",
      "/home/stas/.local/lib/python3.12/site-packages/statsmodels/tsa/base/tsa_model.py:473: ValueWarning: No frequency information was provided, so inferred frequency 10min will be used.\n",
      "  self._init_dates(dates, freq)\n"
     ]
    },
    {
     "name": "stdout",
     "output_type": "stream",
     "text": [
      "Evaluating combination 7/27: ARIMA(0, 2, 0)\n",
      "Evaluating combination 8/27: ARIMA(0, 2, 1)\n"
     ]
    },
    {
     "name": "stderr",
     "output_type": "stream",
     "text": [
      "/home/stas/.local/lib/python3.12/site-packages/statsmodels/tsa/base/tsa_model.py:473: ValueWarning: No frequency information was provided, so inferred frequency 10min will be used.\n",
      "  self._init_dates(dates, freq)\n",
      "/home/stas/.local/lib/python3.12/site-packages/statsmodels/tsa/base/tsa_model.py:473: ValueWarning: No frequency information was provided, so inferred frequency 10min will be used.\n",
      "  self._init_dates(dates, freq)\n",
      "/home/stas/.local/lib/python3.12/site-packages/statsmodels/tsa/base/tsa_model.py:473: ValueWarning: No frequency information was provided, so inferred frequency 10min will be used.\n",
      "  self._init_dates(dates, freq)\n",
      "/home/stas/.local/lib/python3.12/site-packages/statsmodels/tsa/base/tsa_model.py:473: ValueWarning: No frequency information was provided, so inferred frequency 10min will be used.\n",
      "  self._init_dates(dates, freq)\n",
      "/home/stas/.local/lib/python3.12/site-packages/statsmodels/tsa/base/tsa_model.py:473: ValueWarning: No frequency information was provided, so inferred frequency 10min will be used.\n",
      "  self._init_dates(dates, freq)\n",
      "/home/stas/.local/lib/python3.12/site-packages/statsmodels/tsa/base/tsa_model.py:473: ValueWarning: No frequency information was provided, so inferred frequency 10min will be used.\n",
      "  self._init_dates(dates, freq)\n"
     ]
    },
    {
     "name": "stdout",
     "output_type": "stream",
     "text": [
      "Evaluating combination 9/27: ARIMA(0, 2, 2)\n"
     ]
    },
    {
     "name": "stderr",
     "output_type": "stream",
     "text": [
      "/home/stas/.local/lib/python3.12/site-packages/statsmodels/tsa/base/tsa_model.py:473: ValueWarning: No frequency information was provided, so inferred frequency 10min will be used.\n",
      "  self._init_dates(dates, freq)\n",
      "/home/stas/.local/lib/python3.12/site-packages/statsmodels/tsa/base/tsa_model.py:473: ValueWarning: No frequency information was provided, so inferred frequency 10min will be used.\n",
      "  self._init_dates(dates, freq)\n",
      "/home/stas/.local/lib/python3.12/site-packages/statsmodels/tsa/base/tsa_model.py:473: ValueWarning: No frequency information was provided, so inferred frequency 10min will be used.\n",
      "  self._init_dates(dates, freq)\n",
      "/home/stas/.local/lib/python3.12/site-packages/statsmodels/tsa/statespace/sarimax.py:978: UserWarning: Non-invertible starting MA parameters found. Using zeros as starting parameters.\n",
      "  warn('Non-invertible starting MA parameters found.'\n"
     ]
    },
    {
     "name": "stdout",
     "output_type": "stream",
     "text": [
      "Evaluating combination 10/27: ARIMA(1, 0, 0)\n"
     ]
    },
    {
     "name": "stderr",
     "output_type": "stream",
     "text": [
      "/home/stas/.local/lib/python3.12/site-packages/statsmodels/tsa/base/tsa_model.py:473: ValueWarning: No frequency information was provided, so inferred frequency 10min will be used.\n",
      "  self._init_dates(dates, freq)\n",
      "/home/stas/.local/lib/python3.12/site-packages/statsmodels/tsa/base/tsa_model.py:473: ValueWarning: No frequency information was provided, so inferred frequency 10min will be used.\n",
      "  self._init_dates(dates, freq)\n",
      "/home/stas/.local/lib/python3.12/site-packages/statsmodels/tsa/base/tsa_model.py:473: ValueWarning: No frequency information was provided, so inferred frequency 10min will be used.\n",
      "  self._init_dates(dates, freq)\n"
     ]
    },
    {
     "name": "stdout",
     "output_type": "stream",
     "text": [
      "Evaluating combination 11/27: ARIMA(1, 0, 1)\n"
     ]
    },
    {
     "name": "stderr",
     "output_type": "stream",
     "text": [
      "/home/stas/.local/lib/python3.12/site-packages/statsmodels/tsa/base/tsa_model.py:473: ValueWarning: No frequency information was provided, so inferred frequency 10min will be used.\n",
      "  self._init_dates(dates, freq)\n",
      "/home/stas/.local/lib/python3.12/site-packages/statsmodels/tsa/base/tsa_model.py:473: ValueWarning: No frequency information was provided, so inferred frequency 10min will be used.\n",
      "  self._init_dates(dates, freq)\n",
      "/home/stas/.local/lib/python3.12/site-packages/statsmodels/tsa/base/tsa_model.py:473: ValueWarning: No frequency information was provided, so inferred frequency 10min will be used.\n",
      "  self._init_dates(dates, freq)\n"
     ]
    },
    {
     "name": "stdout",
     "output_type": "stream",
     "text": [
      "Evaluating combination 12/27: ARIMA(1, 0, 2)\n"
     ]
    },
    {
     "name": "stderr",
     "output_type": "stream",
     "text": [
      "/home/stas/.local/lib/python3.12/site-packages/statsmodels/tsa/base/tsa_model.py:473: ValueWarning: No frequency information was provided, so inferred frequency 10min will be used.\n",
      "  self._init_dates(dates, freq)\n",
      "/home/stas/.local/lib/python3.12/site-packages/statsmodels/tsa/base/tsa_model.py:473: ValueWarning: No frequency information was provided, so inferred frequency 10min will be used.\n",
      "  self._init_dates(dates, freq)\n",
      "/home/stas/.local/lib/python3.12/site-packages/statsmodels/tsa/base/tsa_model.py:473: ValueWarning: No frequency information was provided, so inferred frequency 10min will be used.\n",
      "  self._init_dates(dates, freq)\n"
     ]
    },
    {
     "name": "stdout",
     "output_type": "stream",
     "text": [
      "Evaluating combination 13/27: ARIMA(1, 1, 0)\n"
     ]
    },
    {
     "name": "stderr",
     "output_type": "stream",
     "text": [
      "/home/stas/.local/lib/python3.12/site-packages/statsmodels/tsa/base/tsa_model.py:473: ValueWarning: No frequency information was provided, so inferred frequency 10min will be used.\n",
      "  self._init_dates(dates, freq)\n",
      "/home/stas/.local/lib/python3.12/site-packages/statsmodels/tsa/base/tsa_model.py:473: ValueWarning: No frequency information was provided, so inferred frequency 10min will be used.\n",
      "  self._init_dates(dates, freq)\n",
      "/home/stas/.local/lib/python3.12/site-packages/statsmodels/tsa/base/tsa_model.py:473: ValueWarning: No frequency information was provided, so inferred frequency 10min will be used.\n",
      "  self._init_dates(dates, freq)\n"
     ]
    },
    {
     "name": "stdout",
     "output_type": "stream",
     "text": [
      "Evaluating combination 14/27: ARIMA(1, 1, 1)\n"
     ]
    },
    {
     "name": "stderr",
     "output_type": "stream",
     "text": [
      "/home/stas/.local/lib/python3.12/site-packages/statsmodels/tsa/base/tsa_model.py:473: ValueWarning: No frequency information was provided, so inferred frequency 10min will be used.\n",
      "  self._init_dates(dates, freq)\n",
      "/home/stas/.local/lib/python3.12/site-packages/statsmodels/tsa/base/tsa_model.py:473: ValueWarning: No frequency information was provided, so inferred frequency 10min will be used.\n",
      "  self._init_dates(dates, freq)\n",
      "/home/stas/.local/lib/python3.12/site-packages/statsmodels/tsa/base/tsa_model.py:473: ValueWarning: No frequency information was provided, so inferred frequency 10min will be used.\n",
      "  self._init_dates(dates, freq)\n"
     ]
    },
    {
     "name": "stdout",
     "output_type": "stream",
     "text": [
      "Evaluating combination 15/27: ARIMA(1, 1, 2)\n"
     ]
    },
    {
     "name": "stderr",
     "output_type": "stream",
     "text": [
      "/home/stas/.local/lib/python3.12/site-packages/statsmodels/tsa/base/tsa_model.py:473: ValueWarning: No frequency information was provided, so inferred frequency 10min will be used.\n",
      "  self._init_dates(dates, freq)\n",
      "/home/stas/.local/lib/python3.12/site-packages/statsmodels/tsa/base/tsa_model.py:473: ValueWarning: No frequency information was provided, so inferred frequency 10min will be used.\n",
      "  self._init_dates(dates, freq)\n",
      "/home/stas/.local/lib/python3.12/site-packages/statsmodels/tsa/base/tsa_model.py:473: ValueWarning: No frequency information was provided, so inferred frequency 10min will be used.\n",
      "  self._init_dates(dates, freq)\n"
     ]
    },
    {
     "name": "stdout",
     "output_type": "stream",
     "text": [
      "Evaluating combination 16/27: ARIMA(1, 2, 0)\n"
     ]
    },
    {
     "name": "stderr",
     "output_type": "stream",
     "text": [
      "/home/stas/.local/lib/python3.12/site-packages/statsmodels/tsa/base/tsa_model.py:473: ValueWarning: No frequency information was provided, so inferred frequency 10min will be used.\n",
      "  self._init_dates(dates, freq)\n",
      "/home/stas/.local/lib/python3.12/site-packages/statsmodels/tsa/base/tsa_model.py:473: ValueWarning: No frequency information was provided, so inferred frequency 10min will be used.\n",
      "  self._init_dates(dates, freq)\n",
      "/home/stas/.local/lib/python3.12/site-packages/statsmodels/tsa/base/tsa_model.py:473: ValueWarning: No frequency information was provided, so inferred frequency 10min will be used.\n",
      "  self._init_dates(dates, freq)\n"
     ]
    },
    {
     "name": "stdout",
     "output_type": "stream",
     "text": [
      "Evaluating combination 17/27: ARIMA(1, 2, 1)\n"
     ]
    },
    {
     "name": "stderr",
     "output_type": "stream",
     "text": [
      "/home/stas/.local/lib/python3.12/site-packages/statsmodels/tsa/base/tsa_model.py:473: ValueWarning: No frequency information was provided, so inferred frequency 10min will be used.\n",
      "  self._init_dates(dates, freq)\n",
      "/home/stas/.local/lib/python3.12/site-packages/statsmodels/tsa/base/tsa_model.py:473: ValueWarning: No frequency information was provided, so inferred frequency 10min will be used.\n",
      "  self._init_dates(dates, freq)\n",
      "/home/stas/.local/lib/python3.12/site-packages/statsmodels/tsa/base/tsa_model.py:473: ValueWarning: No frequency information was provided, so inferred frequency 10min will be used.\n",
      "  self._init_dates(dates, freq)\n"
     ]
    },
    {
     "name": "stdout",
     "output_type": "stream",
     "text": [
      "Evaluating combination 18/27: ARIMA(1, 2, 2)\n"
     ]
    },
    {
     "name": "stderr",
     "output_type": "stream",
     "text": [
      "/home/stas/.local/lib/python3.12/site-packages/statsmodels/tsa/base/tsa_model.py:473: ValueWarning: No frequency information was provided, so inferred frequency 10min will be used.\n",
      "  self._init_dates(dates, freq)\n",
      "/home/stas/.local/lib/python3.12/site-packages/statsmodels/tsa/base/tsa_model.py:473: ValueWarning: No frequency information was provided, so inferred frequency 10min will be used.\n",
      "  self._init_dates(dates, freq)\n",
      "/home/stas/.local/lib/python3.12/site-packages/statsmodels/tsa/base/tsa_model.py:473: ValueWarning: No frequency information was provided, so inferred frequency 10min will be used.\n",
      "  self._init_dates(dates, freq)\n",
      "/home/stas/.local/lib/python3.12/site-packages/statsmodels/tsa/statespace/sarimax.py:978: UserWarning: Non-invertible starting MA parameters found. Using zeros as starting parameters.\n",
      "  warn('Non-invertible starting MA parameters found.'\n"
     ]
    },
    {
     "name": "stdout",
     "output_type": "stream",
     "text": [
      "Evaluating combination 19/27: ARIMA(2, 0, 0)\n"
     ]
    },
    {
     "name": "stderr",
     "output_type": "stream",
     "text": [
      "/home/stas/.local/lib/python3.12/site-packages/statsmodels/tsa/base/tsa_model.py:473: ValueWarning: No frequency information was provided, so inferred frequency 10min will be used.\n",
      "  self._init_dates(dates, freq)\n",
      "/home/stas/.local/lib/python3.12/site-packages/statsmodels/tsa/base/tsa_model.py:473: ValueWarning: No frequency information was provided, so inferred frequency 10min will be used.\n",
      "  self._init_dates(dates, freq)\n",
      "/home/stas/.local/lib/python3.12/site-packages/statsmodels/tsa/base/tsa_model.py:473: ValueWarning: No frequency information was provided, so inferred frequency 10min will be used.\n",
      "  self._init_dates(dates, freq)\n"
     ]
    },
    {
     "name": "stdout",
     "output_type": "stream",
     "text": [
      "Evaluating combination 20/27: ARIMA(2, 0, 1)\n"
     ]
    },
    {
     "name": "stderr",
     "output_type": "stream",
     "text": [
      "/home/stas/.local/lib/python3.12/site-packages/statsmodels/tsa/base/tsa_model.py:473: ValueWarning: No frequency information was provided, so inferred frequency 10min will be used.\n",
      "  self._init_dates(dates, freq)\n",
      "/home/stas/.local/lib/python3.12/site-packages/statsmodels/tsa/base/tsa_model.py:473: ValueWarning: No frequency information was provided, so inferred frequency 10min will be used.\n",
      "  self._init_dates(dates, freq)\n",
      "/home/stas/.local/lib/python3.12/site-packages/statsmodels/tsa/base/tsa_model.py:473: ValueWarning: No frequency information was provided, so inferred frequency 10min will be used.\n",
      "  self._init_dates(dates, freq)\n",
      "/home/stas/.local/lib/python3.12/site-packages/statsmodels/tsa/statespace/sarimax.py:966: UserWarning: Non-stationary starting autoregressive parameters found. Using zeros as starting parameters.\n",
      "  warn('Non-stationary starting autoregressive parameters'\n",
      "/home/stas/.local/lib/python3.12/site-packages/statsmodels/tsa/statespace/sarimax.py:978: UserWarning: Non-invertible starting MA parameters found. Using zeros as starting parameters.\n",
      "  warn('Non-invertible starting MA parameters found.'\n"
     ]
    },
    {
     "name": "stdout",
     "output_type": "stream",
     "text": [
      "Evaluating combination 21/27: ARIMA(2, 0, 2)\n"
     ]
    },
    {
     "name": "stderr",
     "output_type": "stream",
     "text": [
      "/home/stas/.local/lib/python3.12/site-packages/statsmodels/tsa/base/tsa_model.py:473: ValueWarning: No frequency information was provided, so inferred frequency 10min will be used.\n",
      "  self._init_dates(dates, freq)\n",
      "/home/stas/.local/lib/python3.12/site-packages/statsmodels/tsa/base/tsa_model.py:473: ValueWarning: No frequency information was provided, so inferred frequency 10min will be used.\n",
      "  self._init_dates(dates, freq)\n",
      "/home/stas/.local/lib/python3.12/site-packages/statsmodels/tsa/base/tsa_model.py:473: ValueWarning: No frequency information was provided, so inferred frequency 10min will be used.\n",
      "  self._init_dates(dates, freq)\n"
     ]
    },
    {
     "name": "stdout",
     "output_type": "stream",
     "text": [
      "Evaluating combination 22/27: ARIMA(2, 1, 0)\n"
     ]
    },
    {
     "name": "stderr",
     "output_type": "stream",
     "text": [
      "/home/stas/.local/lib/python3.12/site-packages/statsmodels/tsa/base/tsa_model.py:473: ValueWarning: No frequency information was provided, so inferred frequency 10min will be used.\n",
      "  self._init_dates(dates, freq)\n",
      "/home/stas/.local/lib/python3.12/site-packages/statsmodels/tsa/base/tsa_model.py:473: ValueWarning: No frequency information was provided, so inferred frequency 10min will be used.\n",
      "  self._init_dates(dates, freq)\n",
      "/home/stas/.local/lib/python3.12/site-packages/statsmodels/tsa/base/tsa_model.py:473: ValueWarning: No frequency information was provided, so inferred frequency 10min will be used.\n",
      "  self._init_dates(dates, freq)\n"
     ]
    },
    {
     "name": "stdout",
     "output_type": "stream",
     "text": [
      "Evaluating combination 23/27: ARIMA(2, 1, 1)\n"
     ]
    },
    {
     "name": "stderr",
     "output_type": "stream",
     "text": [
      "/home/stas/.local/lib/python3.12/site-packages/statsmodels/tsa/base/tsa_model.py:473: ValueWarning: No frequency information was provided, so inferred frequency 10min will be used.\n",
      "  self._init_dates(dates, freq)\n",
      "/home/stas/.local/lib/python3.12/site-packages/statsmodels/tsa/base/tsa_model.py:473: ValueWarning: No frequency information was provided, so inferred frequency 10min will be used.\n",
      "  self._init_dates(dates, freq)\n",
      "/home/stas/.local/lib/python3.12/site-packages/statsmodels/tsa/base/tsa_model.py:473: ValueWarning: No frequency information was provided, so inferred frequency 10min will be used.\n",
      "  self._init_dates(dates, freq)\n"
     ]
    },
    {
     "name": "stdout",
     "output_type": "stream",
     "text": [
      "Evaluating combination 24/27: ARIMA(2, 1, 2)\n"
     ]
    },
    {
     "name": "stderr",
     "output_type": "stream",
     "text": [
      "/home/stas/.local/lib/python3.12/site-packages/statsmodels/tsa/base/tsa_model.py:473: ValueWarning: No frequency information was provided, so inferred frequency 10min will be used.\n",
      "  self._init_dates(dates, freq)\n",
      "/home/stas/.local/lib/python3.12/site-packages/statsmodels/tsa/base/tsa_model.py:473: ValueWarning: No frequency information was provided, so inferred frequency 10min will be used.\n",
      "  self._init_dates(dates, freq)\n",
      "/home/stas/.local/lib/python3.12/site-packages/statsmodels/tsa/base/tsa_model.py:473: ValueWarning: No frequency information was provided, so inferred frequency 10min will be used.\n",
      "  self._init_dates(dates, freq)\n"
     ]
    },
    {
     "name": "stdout",
     "output_type": "stream",
     "text": [
      "Evaluating combination 25/27: ARIMA(2, 2, 0)\n"
     ]
    },
    {
     "name": "stderr",
     "output_type": "stream",
     "text": [
      "/home/stas/.local/lib/python3.12/site-packages/statsmodels/tsa/base/tsa_model.py:473: ValueWarning: No frequency information was provided, so inferred frequency 10min will be used.\n",
      "  self._init_dates(dates, freq)\n",
      "/home/stas/.local/lib/python3.12/site-packages/statsmodels/tsa/base/tsa_model.py:473: ValueWarning: No frequency information was provided, so inferred frequency 10min will be used.\n",
      "  self._init_dates(dates, freq)\n",
      "/home/stas/.local/lib/python3.12/site-packages/statsmodels/tsa/base/tsa_model.py:473: ValueWarning: No frequency information was provided, so inferred frequency 10min will be used.\n",
      "  self._init_dates(dates, freq)\n"
     ]
    },
    {
     "name": "stdout",
     "output_type": "stream",
     "text": [
      "Evaluating combination 26/27: ARIMA(2, 2, 1)\n"
     ]
    },
    {
     "name": "stderr",
     "output_type": "stream",
     "text": [
      "/home/stas/.local/lib/python3.12/site-packages/statsmodels/tsa/base/tsa_model.py:473: ValueWarning: No frequency information was provided, so inferred frequency 10min will be used.\n",
      "  self._init_dates(dates, freq)\n",
      "/home/stas/.local/lib/python3.12/site-packages/statsmodels/tsa/base/tsa_model.py:473: ValueWarning: No frequency information was provided, so inferred frequency 10min will be used.\n",
      "  self._init_dates(dates, freq)\n",
      "/home/stas/.local/lib/python3.12/site-packages/statsmodels/tsa/base/tsa_model.py:473: ValueWarning: No frequency information was provided, so inferred frequency 10min will be used.\n",
      "  self._init_dates(dates, freq)\n"
     ]
    },
    {
     "name": "stdout",
     "output_type": "stream",
     "text": [
      "Evaluating combination 27/27: ARIMA(2, 2, 2)\n"
     ]
    },
    {
     "name": "stderr",
     "output_type": "stream",
     "text": [
      "/home/stas/.local/lib/python3.12/site-packages/statsmodels/tsa/base/tsa_model.py:473: ValueWarning: No frequency information was provided, so inferred frequency 10min will be used.\n",
      "  self._init_dates(dates, freq)\n",
      "/home/stas/.local/lib/python3.12/site-packages/statsmodels/tsa/base/tsa_model.py:473: ValueWarning: No frequency information was provided, so inferred frequency 10min will be used.\n",
      "  self._init_dates(dates, freq)\n",
      "/home/stas/.local/lib/python3.12/site-packages/statsmodels/tsa/base/tsa_model.py:473: ValueWarning: No frequency information was provided, so inferred frequency 10min will be used.\n",
      "  self._init_dates(dates, freq)\n",
      "/home/stas/.local/lib/python3.12/site-packages/statsmodels/base/model.py:607: ConvergenceWarning: Maximum Likelihood optimization failed to converge. Check mle_retvals\n",
      "  warnings.warn(\"Maximum Likelihood optimization failed to \"\n"
     ]
    },
    {
     "name": "stdout",
     "output_type": "stream",
     "text": [
      "Best ARIMA parameters: (2, 0, 2)\n",
      "Best AIC: 221345.8773147678\n"
     ]
    }
   ],
   "source": [
    "count = 0\n",
    "\n",
    "for param in itertools.product(p, d, q):\n",
    "    count += 1\n",
    "    print(f\"Evaluating combination {count}/{num_combinations}: ARIMA{param}\")\n",
    "    try:\n",
    "        model = ARIMA(series, order=param)\n",
    "        results = model.fit()\n",
    "        if results.aic < best_aic:\n",
    "            best_aic = results.aic\n",
    "            best_params = param\n",
    "    except Exception as e:\n",
    "        print(f\"Combination {param} failed with error: {e}\")\n",
    "        continue\n",
    "\n",
    "print('Best ARIMA parameters:', best_params)\n",
    "print('Best AIC:', best_aic)\n"
   ]
  },
  {
   "cell_type": "code",
   "execution_count": 144,
   "metadata": {},
   "outputs": [
    {
     "name": "stderr",
     "output_type": "stream",
     "text": [
      "/home/stas/.local/lib/python3.12/site-packages/statsmodels/tsa/base/tsa_model.py:473: ValueWarning: No frequency information was provided, so inferred frequency 10min will be used.\n",
      "  self._init_dates(dates, freq)\n",
      "/home/stas/.local/lib/python3.12/site-packages/statsmodels/tsa/base/tsa_model.py:473: ValueWarning: No frequency information was provided, so inferred frequency 10min will be used.\n",
      "  self._init_dates(dates, freq)\n",
      "/home/stas/.local/lib/python3.12/site-packages/statsmodels/tsa/base/tsa_model.py:473: ValueWarning: No frequency information was provided, so inferred frequency 10min will be used.\n",
      "  self._init_dates(dates, freq)\n"
     ]
    }
   ],
   "source": [
    "# Fit the ARIMA model with the best parameters\n",
    "model = ARIMA(series, order=best_params)\n",
    "model_fit = model.fit()"
   ]
  },
  {
   "cell_type": "code",
   "execution_count": 145,
   "metadata": {},
   "outputs": [],
   "source": [
    "# Forecast\n",
    "forecast_steps = 30  # Forecast for 30 time steps ahead\n",
    "forecast = model_fit.forecast(steps=forecast_steps)"
   ]
  },
  {
   "cell_type": "code",
   "execution_count": 146,
   "metadata": {},
   "outputs": [
    {
     "name": "stdout",
     "output_type": "stream",
     "text": [
      "Mean Absolute Error (MAE): 39.73663515185555\n",
      "Mean Squared Error (MSE): 3713.644219823917\n",
      "Root Mean Squared Error (RMSE): 28.46842940536354\n"
     ]
    }
   ],
   "source": [
    "# Evaluate the model\n",
    "y_train = series[:-forecast_steps]\n",
    "y_test = series[-forecast_steps:]\n",
    "y_pred = model_fit.predict(start=len(series)-forecast_steps, end=len(series)-1)\n",
    "\n",
    "arima_mae = mean_absolute_error(y_test, y_pred)\n",
    "arima_mse = mean_squared_error(y_test, y_pred)\n",
    "arima_rmse = np.sqrt(mse)\n",
    "\n",
    "print('Mean Absolute Error (MAE):', arima_mae)\n",
    "print('Mean Squared Error (MSE):', arima_mse)\n",
    "print('Root Mean Squared Error (RMSE):', arima_rmse)"
   ]
  },
  {
   "cell_type": "markdown",
   "metadata": {},
   "source": [
    "## Sarima model"
   ]
  },
  {
   "cell_type": "code",
   "execution_count": 127,
   "metadata": {},
   "outputs": [],
   "source": [
    "# Focusing on the 'Appliances' energy consumption and selecting exogenous variables\n",
    "series = df['Appliances']\n",
    "# exog = df[['T1', 'RH_1', 'T2', 'RH_2', 'T_out', 'RH_out']]"
   ]
  },
  {
   "cell_type": "code",
   "execution_count": 128,
   "metadata": {},
   "outputs": [
    {
     "name": "stderr",
     "output_type": "stream",
     "text": [
      "/home/stas/.local/lib/python3.12/site-packages/statsmodels/tsa/base/tsa_model.py:473: ValueWarning: No frequency information was provided, so inferred frequency 10min will be used.\n",
      "  self._init_dates(dates, freq)\n",
      "/home/stas/.local/lib/python3.12/site-packages/statsmodels/tsa/base/tsa_model.py:473: ValueWarning: No frequency information was provided, so inferred frequency 10min will be used.\n",
      "  self._init_dates(dates, freq)\n",
      "/home/stas/.local/lib/python3.12/site-packages/statsmodels/base/model.py:607: ConvergenceWarning: Maximum Likelihood optimization failed to converge. Check mle_retvals\n",
      "  warnings.warn(\"Maximum Likelihood optimization failed to \"\n"
     ]
    },
    {
     "name": "stdout",
     "output_type": "stream",
     "text": [
      "                                      SARIMAX Results                                       \n",
      "============================================================================================\n",
      "Dep. Variable:                           Appliances   No. Observations:                19735\n",
      "Model:             SARIMAX(2, 0, 2)x(1, 0, [1], 24)   Log Likelihood             -110623.187\n",
      "Date:                              Sun, 07 Jul 2024   AIC                         221260.373\n",
      "Time:                                      22:09:25   BIC                         221315.595\n",
      "Sample:                                  01-11-2016   HQIC                        221278.453\n",
      "                                       - 05-27-2016                                         \n",
      "Covariance Type:                                opg                                         \n",
      "==============================================================================\n",
      "                 coef    std err          z      P>|z|      [0.025      0.975]\n",
      "------------------------------------------------------------------------------\n",
      "ar.L1          1.4069      0.009    154.128      0.000       1.389       1.425\n",
      "ar.L2         -0.4124      0.009    -47.017      0.000      -0.430      -0.395\n",
      "ma.L1         -0.5987      0.009    -65.553      0.000      -0.617      -0.581\n",
      "ma.L2         -0.2580      0.005    -50.113      0.000      -0.268      -0.248\n",
      "ar.S.L24      -0.3416      0.109     -3.127      0.002      -0.556      -0.128\n",
      "ma.S.L24       0.3386      0.109      3.096      0.002       0.124       0.553\n",
      "sigma2      4395.5494     15.270    287.846      0.000    4365.620    4425.479\n",
      "===================================================================================\n",
      "Ljung-Box (L1) (Q):                   0.26   Jarque-Bera (JB):            422919.50\n",
      "Prob(Q):                              0.61   Prob(JB):                         0.00\n",
      "Heteroskedasticity (H):               0.78   Skew:                             3.01\n",
      "Prob(H) (two-sided):                  0.00   Kurtosis:                        24.88\n",
      "===================================================================================\n",
      "\n",
      "Warnings:\n",
      "[1] Covariance matrix calculated using the outer product of gradients (complex-step).\n"
     ]
    }
   ],
   "source": [
    "# Fit the SARIMAX model with the selected parameters and exogenous variables\n",
    "model = SARIMAX(series,\n",
    "                order=(2, 0, 2),\n",
    "                seasonal_order=(1, 0, 1, 24),\n",
    "                #exog=exog,\n",
    "                enforce_stationarity=False,\n",
    "                enforce_invertibility=False)\n",
    "model_fit = model.fit(disp=False)\n",
    "\n",
    "# Print summary of the model\n",
    "print(model_fit.summary())"
   ]
  },
  {
   "cell_type": "code",
   "execution_count": 129,
   "metadata": {},
   "outputs": [],
   "source": [
    "# Forecast\n",
    "forecast_steps = 30  # Forecast for 30 time steps ahead\n",
    "# exog_forecast = exog.iloc[-forecast_steps:].reset_index(drop=True)\n",
    "# forecast = model_fit.forecast(steps=forecast_steps, exog=exog_forecast)\n",
    "forecast = model_fit.forecast(steps=forecast_steps)"
   ]
  },
  {
   "cell_type": "code",
   "execution_count": 130,
   "metadata": {},
   "outputs": [
    {
     "name": "stdout",
     "output_type": "stream",
     "text": [
      "Mean Absolute Error (MAE): 42.12906344304756\n",
      "Mean Squared Error (MSE): 3892.527091971792\n",
      "Root Mean Squared Error (RMSE): 62.39012014711778\n"
     ]
    }
   ],
   "source": [
    "# Evaluate the model\n",
    "y_train = series[:-forecast_steps]\n",
    "y_test = series[-forecast_steps:]\n",
    "# y_pred = model_fit.predict(start=len(series)-forecast_steps, end=len(series)-1, exog=exog_forecast)\n",
    "y_pred = model_fit.predict(start=len(series)-forecast_steps, end=len(series)-1)\n",
    "\n",
    "\n",
    "sarima_mae = mean_absolute_error(y_test, y_pred)\n",
    "sarima_mse = mean_squared_error(y_test, y_pred)\n",
    "sarima_rmse = np.sqrt(sarima_mse)\n",
    "\n",
    "print('Mean Absolute Error (MAE):', sarima_mae)\n",
    "print('Mean Squared Error (MSE):', sarima_mse)\n",
    "print('Root Mean Squared Error (RMSE):', sarima_rmse)"
   ]
  },
  {
   "cell_type": "markdown",
   "metadata": {},
   "source": [
    "By removing the other independent variables, the sarima model improved marginally"
   ]
  },
  {
   "cell_type": "markdown",
   "metadata": {},
   "source": [
    "## ETS model"
   ]
  },
  {
   "cell_type": "code",
   "execution_count": 131,
   "metadata": {},
   "outputs": [],
   "source": [
    "# Resample the data to daily frequency and take the mean\n",
    "daily_data = df['Appliances'].resample('D').mean()"
   ]
  },
  {
   "cell_type": "code",
   "execution_count": 132,
   "metadata": {},
   "outputs": [],
   "source": [
    "# Fit an ETS model\n",
    "ets_model = sm.tsa.ExponentialSmoothing(daily_data, trend='add', seasonal='add', seasonal_periods=7).fit()"
   ]
  },
  {
   "cell_type": "code",
   "execution_count": 133,
   "metadata": {},
   "outputs": [
    {
     "name": "stdout",
     "output_type": "stream",
     "text": [
      "                       ExponentialSmoothing Model Results                       \n",
      "================================================================================\n",
      "Dep. Variable:               Appliances   No. Observations:                  138\n",
      "Model:             ExponentialSmoothing   SSE                         116961.349\n",
      "Optimized:                         True   AIC                            952.444\n",
      "Trend:                         Additive   BIC                            984.643\n",
      "Seasonal:                      Additive   AICC                           955.379\n",
      "Seasonal Periods:                     7   Date:                 Sun, 07 Jul 2024\n",
      "Box-Cox:                          False   Time:                         22:09:25\n",
      "Box-Cox Coeff.:                    None                                         \n",
      "=================================================================================\n",
      "                          coeff                 code              optimized      \n",
      "---------------------------------------------------------------------------------\n",
      "smoothing_level               0.0015547                alpha                 True\n",
      "smoothing_trend              2.3203e-05                 beta                 True\n",
      "smoothing_seasonal            0.0108841                gamma                 True\n",
      "initial_level                 103.71967                  l.0                 True\n",
      "initial_trend                -0.0323655                  b.0                 True\n",
      "initial_seasons.0             10.813171                  s.0                 True\n",
      "initial_seasons.1            -14.781824                  s.1                 True\n",
      "initial_seasons.2            -11.619621                  s.2                 True\n",
      "initial_seasons.3            -10.816188                  s.3                 True\n",
      "initial_seasons.4             3.3773733                  s.4                 True\n",
      "initial_seasons.5             4.7101809                  s.5                 True\n",
      "initial_seasons.6            -6.3139495                  s.6                 True\n",
      "---------------------------------------------------------------------------------\n"
     ]
    }
   ],
   "source": [
    "# Summary of the ETS model\n",
    "ets_summary = ets_model.summary()\n",
    "print(ets_summary)"
   ]
  },
  {
   "cell_type": "code",
   "execution_count": 134,
   "metadata": {},
   "outputs": [],
   "source": [
    "# Forecasting\n",
    "forecast_steps = 30  # Forecast for the next 30 days\n",
    "ets_forecast = ets_model.forecast(steps=forecast_steps)\n",
    "\n",
    "actual_values = daily_data[-forecast_steps:]  # Actual values for the forecast period"
   ]
  },
  {
   "cell_type": "code",
   "execution_count": 135,
   "metadata": {},
   "outputs": [
    {
     "name": "stdout",
     "output_type": "stream",
     "text": [
      "Mean Absolute Error (MAE): 22.431589723638545\n",
      "Mean Squared Error (MSE): 750.3905228770386\n",
      "Root Mean Squared Error (RMSE): 28.46842940536354\n"
     ]
    }
   ],
   "source": [
    "# Calculate error metrics\n",
    "ets_mae = mean_absolute_error(actual_values, ets_forecast)\n",
    "ets_mse = mean_squared_error(actual_values, ets_forecast)\n",
    "ets_rmse = np.sqrt(mse)\n",
    "\n",
    "print('Mean Absolute Error (MAE):', ets_mae)\n",
    "print('Mean Squared Error (MSE):', ets_mse)\n",
    "print('Root Mean Squared Error (RMSE):', ets_rmse)\n",
    "\n"
   ]
  },
  {
   "cell_type": "code",
   "execution_count": 136,
   "metadata": {},
   "outputs": [
    {
     "name": "stdout",
     "output_type": "stream",
     "text": [
      "Z-scores: 2016-05-28    0.257633\n",
      "2016-05-29   -0.139257\n",
      "2016-05-30    0.461618\n",
      "2016-05-31   -0.432346\n",
      "2016-06-01   -0.325833\n",
      "2016-06-02   -0.299588\n",
      "2016-06-03    0.196749\n",
      "2016-06-04    0.249665\n",
      "2016-06-05   -0.147226\n",
      "2016-06-06    0.453650\n",
      "2016-06-07   -0.440315\n",
      "2016-06-08   -0.333802\n",
      "2016-06-09   -0.307557\n",
      "2016-06-10    0.188780\n",
      "2016-06-11    0.241696\n",
      "2016-06-12   -0.155194\n",
      "2016-06-13    0.445681\n",
      "2016-06-14   -0.448283\n",
      "2016-06-15   -0.341770\n",
      "2016-06-16   -0.315525\n",
      "2016-06-17    0.180812\n",
      "2016-06-18    0.233728\n",
      "2016-06-19   -0.163163\n",
      "2016-06-20    0.437713\n",
      "2016-06-21   -0.456252\n",
      "2016-06-22   -0.349739\n",
      "2016-06-23   -0.323494\n",
      "2016-06-24    0.172843\n",
      "2016-06-25    0.225759\n",
      "2016-06-26   -0.171132\n",
      "Freq: D, dtype: float64\n"
     ]
    }
   ],
   "source": [
    "z_scores = (ets_forecast - actual_values.mean()) / actual_values.std()\n",
    "print('Z-scores:', z_scores)"
   ]
  },
  {
   "cell_type": "markdown",
   "metadata": {},
   "source": [
    "Using cross validation, it makes the results worse but we have robustness and we avoid overfitting"
   ]
  },
  {
   "cell_type": "code",
   "execution_count": 137,
   "metadata": {},
   "outputs": [
    {
     "name": "stdout",
     "output_type": "stream",
     "text": [
      "Average Mean Absolute Error (MAE): 27.940179986758874\n",
      "Average Mean Squared Error (MSE): 1377.7538621066549\n",
      "Average Root Mean Squared Error (RMSE): 35.809374523066126\n",
      "Average R-squared Error (R^2): -1.2044332583785624\n"
     ]
    }
   ],
   "source": [
    "from sklearn.model_selection import TimeSeriesSplit\n",
    "\n",
    "\n",
    "# Initialize the cross-validation split\n",
    "tscv = TimeSeriesSplit(n_splits=5)\n",
    "\n",
    "# Lists to store metrics for each split\n",
    "mae_list = []\n",
    "mse_list = []\n",
    "rmse_list = []\n",
    "r2_list = []\n",
    "\n",
    "# Perform cross-validation\n",
    "for train_index, test_index in tscv.split(daily_data):\n",
    "    train, test = daily_data.iloc[train_index], daily_data.iloc[test_index]\n",
    "    \n",
    "    # Fit the ETS model\n",
    "    ets_model = sm.tsa.ExponentialSmoothing(train, trend='add', seasonal='add', seasonal_periods=7).fit()\n",
    "    \n",
    "    # Forecasting\n",
    "    forecast_steps = len(test)\n",
    "    ets_forecast = ets_model.forecast(steps=forecast_steps)\n",
    "    \n",
    "    # Calculate error metrics\n",
    "    mae = mean_absolute_error(test, ets_forecast)\n",
    "    mse = mean_squared_error(test, ets_forecast)\n",
    "    rmse = np.sqrt(mse)\n",
    "    r_squared = r2_score(test, ets_forecast)\n",
    "    \n",
    "    \n",
    "    # Append metrics to lists\n",
    "    mae_list.append(mae)\n",
    "    mse_list.append(mse)\n",
    "    rmse_list.append(rmse)\n",
    "    r2_list.append(r_squared)\n",
    "    \n",
    "    \n",
    "# Print average metrics\n",
    "print('Average Mean Absolute Error (MAE):', np.mean(mae_list))\n",
    "print('Average Mean Squared Error (MSE):', np.mean(mse_list))\n",
    "print('Average Root Mean Squared Error (RMSE):', np.mean(rmse_list))\n",
    "print('Average R-squared Error (R^2):', np.mean(r2_list))"
   ]
  },
  {
   "cell_type": "markdown",
   "metadata": {},
   "source": [
    "## VAR model"
   ]
  },
  {
   "cell_type": "code",
   "execution_count": 81,
   "metadata": {},
   "outputs": [],
   "source": [
    "# Select the relevant columns for multivariate analysis\n",
    "multivariate_df = df[['Appliances', 'T1', 'RH_1', 'T2', 'RH_2', 'T_out', 'RH_out']].dropna()"
   ]
  },
  {
   "cell_type": "code",
   "execution_count": 82,
   "metadata": {},
   "outputs": [],
   "source": [
    "# Split data into training and testing sets\n",
    "train_size = int(len(multivariate_df) * 0.8)\n",
    "train, test = multivariate_df[:train_size], multivariate_df[train_size:]"
   ]
  },
  {
   "cell_type": "code",
   "execution_count": null,
   "metadata": {},
   "outputs": [],
   "source": [
    "# Fit the VAR model\n",
    "model = VAR(train)\n",
    "model_fit = model.fit(maxlags=15, ic='aic')  # You can tune maxlags and information criteria (ic)\n"
   ]
  },
  {
   "cell_type": "code",
   "execution_count": 86,
   "metadata": {},
   "outputs": [],
   "source": [
    "# Make predictions\n",
    "forecast_steps = len(test)\n",
    "forecast = model_fit.forecast(model_fit.endog, steps=forecast_steps)\n",
    "forecast_df = pd.DataFrame(forecast, index=test.index, columns=test.columns)\n"
   ]
  },
  {
   "cell_type": "code",
   "execution_count": 87,
   "metadata": {},
   "outputs": [
    {
     "name": "stdout",
     "output_type": "stream",
     "text": [
      "Mean Absolute Error (MAE): 52.42465673502153\n",
      "Mean Squared Error (MSE): 8198.192148299813\n",
      "Root Mean Squared Error (RMSE): 90.54386864001236\n",
      "R-squared: 0.010837553466037542\n"
     ]
    }
   ],
   "source": [
    "# Evaluate the model\n",
    "mae = mean_absolute_error(test['Appliances'], forecast_df['Appliances'])\n",
    "mse = mean_squared_error(test['Appliances'], forecast_df['Appliances'])\n",
    "rmse = np.sqrt(mse)\n",
    "r_squared = r2_score(test['Appliances'], forecast_df['Appliances'])\n",
    "\n",
    "print('Mean Absolute Error (MAE):', mae)\n",
    "print('Mean Squared Error (MSE):', mse)\n",
    "print('Root Mean Squared Error (RMSE):', rmse)\n",
    "print('R-squared:', r_squared)"
   ]
  },
  {
   "cell_type": "markdown",
   "metadata": {},
   "source": [
    "## Results"
   ]
  },
  {
   "cell_type": "code",
   "execution_count": 147,
   "metadata": {},
   "outputs": [
    {
     "name": "stderr",
     "output_type": "stream",
     "text": [
      "/tmp/ipykernel_67392/315416539.py:18: UserWarning: set_ticklabels() should only be used with a fixed number of ticks, i.e. after set_ticks() or using a FixedLocator.\n",
      "  axes[0].set_xticklabels(models, rotation=45)\n",
      "/tmp/ipykernel_67392/315416539.py:25: UserWarning: set_ticklabels() should only be used with a fixed number of ticks, i.e. after set_ticks() or using a FixedLocator.\n",
      "  axes[1].set_xticklabels(models, rotation=45)\n",
      "/tmp/ipykernel_67392/315416539.py:32: UserWarning: set_ticklabels() should only be used with a fixed number of ticks, i.e. after set_ticks() or using a FixedLocator.\n",
      "  axes[2].set_xticklabels(models, rotation=45)\n"
     ]
    },
    {
     "data": {
      "image/png": "[encoded data removed]",
      "text/plain": [
       "<Figure size 1800x600 with 3 Axes>"
      ]
     },
     "metadata": {},
     "output_type": "display_data"
    }
   ],
   "source": [
    "models = ['ETS', 'ARIMA', 'SARIMA']\n",
    "\n",
    "mae_values = [ets_mae, arima_mae, sarima_mae]\n",
    "mse_values = [ets_mse, arima_mse, sarima_mse ]\n",
    "rmse_values = [ets_rmse, arima_rmse, sarima_rmse]\n",
    "\n",
    "fig, axes = plt.subplots(nrows=1, ncols=3, figsize=(18, 6))\n",
    "\n",
    "# Plotting MAE\n",
    "axes[0].bar(models, mae_values, color='blue')\n",
    "axes[0].set_title('Mean Absolute Error (MAE)')\n",
    "axes[0].set_xlabel('Models')\n",
    "axes[0].set_ylabel('MAE')\n",
    "axes[0].set_xticklabels(models, rotation=45)\n",
    "\n",
    "# Plotting MSE\n",
    "axes[1].bar(models, mse_values, color='green')\n",
    "axes[1].set_title('Mean Squared Error (MSE)')\n",
    "axes[1].set_xlabel('Models')\n",
    "axes[1].set_ylabel('MSE')\n",
    "axes[1].set_xticklabels(models, rotation=45)\n",
    "\n",
    "# Plotting RMSE\n",
    "axes[2].bar(models, rmse_values, color='red')\n",
    "axes[2].set_title('Root Mean Squared Error (RMSE)')\n",
    "axes[2].set_xlabel('Models')\n",
    "axes[2].set_ylabel('RMSE')\n",
    "axes[2].set_xticklabels(models, rotation=45)\n",
    "\n",
    "plt.tight_layout()\n",
    "plt.show()"
   ]
  }
 ],
 "metadata": {
  "kernelspec": {
   "display_name": "Python 3",
   "language": "python",
   "name": "python3"
  },
  "language_info": {
   "codemirror_mode": {
    "name": "ipython",
    "version": 3
   },
   "file_extension": ".py",
   "mimetype": "text/x-python",
   "name": "python",
   "nbconvert_exporter": "python",
   "pygments_lexer": "ipython3",
   "version": "3.12.4"
  }
 },
 "nbformat": 4,
 "nbformat_minor": 2
}
