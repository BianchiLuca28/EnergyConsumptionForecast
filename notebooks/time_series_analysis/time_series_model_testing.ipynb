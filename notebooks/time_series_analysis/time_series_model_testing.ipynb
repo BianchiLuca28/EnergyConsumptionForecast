{
 "cells": [
  {
   "cell_type": "markdown",
   "metadata": {},
   "source": [
    "## Imports: libraries and dataset"
   ]
  },
  {
   "cell_type": "code",
   "execution_count": 13,
   "metadata": {},
   "outputs": [],
   "source": [
    "import pandas as pd\n",
    "import matplotlib.pyplot as plt\n",
    "from statsmodels.tsa.arima.model import ARIMA\n",
    "from statsmodels.tsa.statespace.sarimax import SARIMAX\n",
    "from sklearn.metrics import mean_absolute_error, mean_squared_error, r2_score\n",
    "import numpy as np\n",
    "import itertools\n",
    "from statsmodels.tsa.stattools import adfuller\n",
    "\n",
    "import statsmodels.api as sm\n",
    "import matplotlib.pyplot as plt\n",
    "from statsmodels.tsa.api import VAR\n",
    "\n",
    "from sklearn.preprocessing import StandardScaler"
   ]
  },
  {
   "cell_type": "code",
   "execution_count": 14,
   "metadata": {},
   "outputs": [],
   "source": [
    "# Load the dataset\n",
    "df = pd.read_csv('../../dataset/KAG_energydata_complete.csv')\n",
    "\n",
    "# Convert the 'date' column to datetime format and set it as the index\n",
    "df['date'] = pd.to_datetime(df['date'])\n",
    "df.set_index('date', inplace=True)"
   ]
  },
  {
   "cell_type": "markdown",
   "metadata": {},
   "source": [
    "Standardize the dataset"
   ]
  },
  {
   "cell_type": "code",
   "execution_count": 15,
   "metadata": {},
   "outputs": [],
   "source": [
    "scaler = StandardScaler()\n",
    "df_scaled = pd.DataFrame(scaler.fit_transform(df), index=df.index, columns=df.columns)"
   ]
  },
  {
   "cell_type": "markdown",
   "metadata": {},
   "source": [
    "## Arima model"
   ]
  },
  {
   "cell_type": "code",
   "execution_count": 16,
   "metadata": {},
   "outputs": [],
   "source": [
    "# Focusing on the 'Appliances' energy consumption\n",
    "series = df_scaled['Appliances']"
   ]
  },
  {
   "cell_type": "code",
   "execution_count": 17,
   "metadata": {},
   "outputs": [
    {
     "name": "stdout",
     "output_type": "stream",
     "text": [
      "ADF Statistic: -21.61637819803618\n",
      "p-value: 0.0\n"
     ]
    }
   ],
   "source": [
    "# Perform ADF test to check for stationarity\n",
    "result = adfuller(series)\n",
    "print('ADF Statistic:', result[0])\n",
    "print('p-value:', result[1])"
   ]
  },
  {
   "cell_type": "code",
   "execution_count": 18,
   "metadata": {},
   "outputs": [],
   "source": [
    "# If the p-value is greater than 0.05, difference the series\n",
    "if result[1] > 0.05:\n",
    "    series = series.diff().dropna()"
   ]
  },
  {
   "cell_type": "code",
   "execution_count": 19,
   "metadata": {},
   "outputs": [
    {
     "name": "stdout",
     "output_type": "stream",
     "text": [
      "Total combinations to evaluate: 27\n"
     ]
    }
   ],
   "source": [
    "# Parameter tuning for ARIMA using a smaller range for efficiency\n",
    "p = d = q = range(0, 3)\n",
    "best_aic = float(\"inf\")\n",
    "best_params = None\n",
    "num_combinations = len(list(itertools.product(p, d, q)))\n",
    "\n",
    "print(f\"Total combinations to evaluate: {num_combinations}\")"
   ]
  },
  {
   "cell_type": "code",
   "execution_count": null,
   "metadata": {},
   "outputs": [],
   "source": [
    "count = 0\n",
    "\n",
    "for param in itertools.product(p, d, q):\n",
    "    count += 1\n",
    "    print(f\"Evaluating combination {count}/{num_combinations}: ARIMA{param}\")\n",
    "    try:\n",
    "        model = ARIMA(series, order=param)\n",
    "        results = model.fit()\n",
    "        if results.aic < best_aic:\n",
    "            best_aic = results.aic\n",
    "            best_params = param\n",
    "    except Exception as e:\n",
    "        print(f\"Combination {param} failed with error: {e}\")\n",
    "        continue\n",
    "\n",
    "print('Best ARIMA parameters:', best_params)\n",
    "print('Best AIC:', best_aic)\n"
   ]
  },
  {
   "cell_type": "code",
   "execution_count": 21,
   "metadata": {},
   "outputs": [
    {
     "name": "stderr",
     "output_type": "stream",
     "text": [
      "/home/stas/.local/lib/python3.12/site-packages/statsmodels/tsa/base/tsa_model.py:473: ValueWarning: No frequency information was provided, so inferred frequency 10min will be used.\n",
      "  self._init_dates(dates, freq)\n",
      "/home/stas/.local/lib/python3.12/site-packages/statsmodels/tsa/base/tsa_model.py:473: ValueWarning: No frequency information was provided, so inferred frequency 10min will be used.\n",
      "  self._init_dates(dates, freq)\n",
      "/home/stas/.local/lib/python3.12/site-packages/statsmodels/tsa/base/tsa_model.py:473: ValueWarning: No frequency information was provided, so inferred frequency 10min will be used.\n",
      "  self._init_dates(dates, freq)\n"
     ]
    }
   ],
   "source": [
    "# Fit the ARIMA model with the best parameters\n",
    "model = ARIMA(series, order=best_params)\n",
    "model_fit = model.fit()"
   ]
  },
  {
   "cell_type": "code",
   "execution_count": 22,
   "metadata": {},
   "outputs": [],
   "source": [
    "# Forecast\n",
    "forecast_steps = 30  # Forecast for 30 time steps ahead\n",
    "forecast = model_fit.forecast(steps=forecast_steps)"
   ]
  },
  {
   "cell_type": "code",
   "execution_count": 38,
   "metadata": {},
   "outputs": [
    {
     "name": "stdout",
     "output_type": "stream",
     "text": [
      "Mean Absolute Error (MAE): 0.3880643357459601\n",
      "Mean Squared Error (MSE): 0.35395256113106405\n",
      "Root Mean Squared Error (RMSE): 0.5949391238866915\n",
      "R-squared: 0.6307932969319153\n"
     ]
    }
   ],
   "source": [
    "# Evaluate the model\n",
    "y_train = series[:-forecast_steps]\n",
    "y_test = series[-forecast_steps:]\n",
    "y_pred = model_fit.predict(start=len(series) - forecast_steps, end=len(series) - 1)\n",
    "\n",
    "arima_mae = mean_absolute_error(y_test, y_pred)\n",
    "arima_mse = mean_squared_error(y_test, y_pred)\n",
    "arima_rmse = np.sqrt(arima_mse)\n",
    "arima_r2 = r2_score(y_test, y_pred)\n",
    "\n",
    "print('Mean Absolute Error (MAE):', arima_mae)\n",
    "print('Mean Squared Error (MSE):', arima_mse)\n",
    "print('Root Mean Squared Error (RMSE):', arima_rmse)\n",
    "print('R-squared:', arima_r2)"
   ]
  },
  {
   "cell_type": "markdown",
   "metadata": {},
   "source": [
    "## Sarima model"
   ]
  },
  {
   "cell_type": "code",
   "execution_count": 24,
   "metadata": {},
   "outputs": [],
   "source": [
    "# Focusing on the 'Appliances' energy consumption and selecting exogenous variables\n",
    "series = df_scaled['Appliances']\n",
    "# exog = df[['T1', 'RH_1', 'T2', 'RH_2', 'T_out', 'RH_out']]"
   ]
  },
  {
   "cell_type": "code",
   "execution_count": 25,
   "metadata": {},
   "outputs": [
    {
     "name": "stderr",
     "output_type": "stream",
     "text": [
      "/home/stas/.local/lib/python3.12/site-packages/statsmodels/tsa/base/tsa_model.py:473: ValueWarning: No frequency information was provided, so inferred frequency 10min will be used.\n",
      "  self._init_dates(dates, freq)\n",
      "/home/stas/.local/lib/python3.12/site-packages/statsmodels/tsa/base/tsa_model.py:473: ValueWarning: No frequency information was provided, so inferred frequency 10min will be used.\n",
      "  self._init_dates(dates, freq)\n"
     ]
    },
    {
     "name": "stdout",
     "output_type": "stream",
     "text": [
      "                                      SARIMAX Results                                       \n",
      "============================================================================================\n",
      "Dep. Variable:                           Appliances   No. Observations:                19735\n",
      "Model:             SARIMAX(2, 0, 2)x(1, 0, [1], 24)   Log Likelihood              -19252.130\n",
      "Date:                              Wed, 10 Jul 2024   AIC                          38518.260\n",
      "Time:                                      19:29:58   BIC                          38573.481\n",
      "Sample:                                  01-11-2016   HQIC                         38536.339\n",
      "                                       - 05-27-2016                                         \n",
      "Covariance Type:                                opg                                         \n",
      "==============================================================================\n",
      "                 coef    std err          z      P>|z|      [0.025      0.975]\n",
      "------------------------------------------------------------------------------\n",
      "ar.L1          1.3395      0.013    104.446      0.000       1.314       1.365\n",
      "ar.L2         -0.3678      0.011    -33.118      0.000      -0.390      -0.346\n",
      "ma.L1         -0.5446      0.012    -43.665      0.000      -0.569      -0.520\n",
      "ma.L2         -0.2545      0.005    -50.212      0.000      -0.264      -0.245\n",
      "ar.S.L24      -0.3380      0.108     -3.139      0.002      -0.549      -0.127\n",
      "ma.S.L24       0.3405      0.108      3.162      0.002       0.129       0.552\n",
      "sigma2         0.4130      0.001    331.620      0.000       0.411       0.415\n",
      "===================================================================================\n",
      "Ljung-Box (L1) (Q):                   0.01   Jarque-Bera (JB):            471828.66\n",
      "Prob(Q):                              0.92   Prob(JB):                         0.00\n",
      "Heteroskedasticity (H):               0.77   Skew:                             3.29\n",
      "Prob(H) (two-sided):                  0.00   Kurtosis:                        26.05\n",
      "===================================================================================\n",
      "\n",
      "Warnings:\n",
      "[1] Covariance matrix calculated using the outer product of gradients (complex-step).\n"
     ]
    }
   ],
   "source": [
    "# Fit the SARIMAX model with the selected parameters and exogenous variables\n",
    "model = SARIMAX(series,\n",
    "                order=(2, 0, 2),\n",
    "                seasonal_order=(1, 0, 1, 24),\n",
    "                #exog=exog,\n",
    "                enforce_stationarity=False,\n",
    "                enforce_invertibility=False)\n",
    "model_fit = model.fit(disp=False)\n",
    "\n",
    "# Print summary of the model\n",
    "print(model_fit.summary())"
   ]
  },
  {
   "cell_type": "code",
   "execution_count": 26,
   "metadata": {},
   "outputs": [],
   "source": [
    "# Forecast\n",
    "forecast_steps = 30  # Forecast for 30 time steps ahead\n",
    "# exog_forecast = exog.iloc[-forecast_steps:].reset_index(drop=True)\n",
    "# forecast = model_fit.forecast(steps=forecast_steps, exog=exog_forecast)\n",
    "forecast = model_fit.forecast(steps=forecast_steps)"
   ]
  },
  {
   "cell_type": "code",
   "execution_count": 37,
   "metadata": {},
   "outputs": [
    {
     "name": "stdout",
     "output_type": "stream",
     "text": [
      "Mean Absolute Error (MAE): 0.3880643357459601\n",
      "Mean Squared Error (MSE): 0.35395256113106405\n",
      "Root Mean Squared Error (RMSE): 0.5949391238866915\n",
      "R-squared: 0.6307932969319153\n"
     ]
    }
   ],
   "source": [
    "# Evaluate the model\n",
    "y_train = series[:-forecast_steps]\n",
    "y_test = series[-forecast_steps:]\n",
    "y_pred = model_fit.predict(start=len(series) - forecast_steps, end=len(series) - 1)\n",
    "\n",
    "sarima_mae = mean_absolute_error(y_test, y_pred)\n",
    "sarima_mse = mean_squared_error(y_test, y_pred)\n",
    "sarima_rmse = np.sqrt(sarima_mse)\n",
    "sarima_r2 = r2_score(y_test, y_pred)\n",
    "\n",
    "print('Mean Absolute Error (MAE):', sarima_mae)\n",
    "print('Mean Squared Error (MSE):', sarima_mse)\n",
    "print('Root Mean Squared Error (RMSE):', sarima_rmse)\n",
    "print('R-squared:', sarima_r2)"
   ]
  },
  {
   "cell_type": "markdown",
   "metadata": {},
   "source": [
    "By removing the other independent variables, the sarima model improved marginally"
   ]
  },
  {
   "cell_type": "markdown",
   "metadata": {},
   "source": [
    "## ETS model"
   ]
  },
  {
   "cell_type": "code",
   "execution_count": 29,
   "metadata": {},
   "outputs": [],
   "source": [
    "# Resample the data to daily frequency and take the mean\n",
    "daily_data = df_scaled['Appliances'].resample('D').mean()"
   ]
  },
  {
   "cell_type": "code",
   "execution_count": 30,
   "metadata": {},
   "outputs": [],
   "source": [
    "# Fit an ETS model\n",
    "ets_model = sm.tsa.ExponentialSmoothing(daily_data, trend='add', seasonal='add', seasonal_periods=7).fit()"
   ]
  },
  {
   "cell_type": "code",
   "execution_count": 31,
   "metadata": {},
   "outputs": [
    {
     "name": "stdout",
     "output_type": "stream",
     "text": [
      "                       ExponentialSmoothing Model Results                       \n",
      "================================================================================\n",
      "Dep. Variable:               Appliances   No. Observations:                  138\n",
      "Model:             ExponentialSmoothing   SSE                             10.997\n",
      "Optimized:                         True   AIC                           -327.092\n",
      "Trend:                         Additive   BIC                           -294.893\n",
      "Seasonal:                      Additive   AICC                          -324.157\n",
      "Seasonal Periods:                     7   Date:                 Wed, 10 Jul 2024\n",
      "Box-Cox:                          False   Time:                         19:30:43\n",
      "Box-Cox Coeff.:                    None                                         \n",
      "=================================================================================\n",
      "                          coeff                 code              optimized      \n",
      "---------------------------------------------------------------------------------\n",
      "smoothing_level              1.4901e-08                alpha                 True\n",
      "smoothing_trend              1.3036e-08                 beta                 True\n",
      "smoothing_seasonal             0.000000                gamma                 True\n",
      "initial_level                 0.0592632                  l.0                 True\n",
      "initial_trend                -0.0003190                  b.0                 True\n",
      "initial_seasons.0             0.1052005                  s.0                 True\n",
      "initial_seasons.1            -0.1404913                  s.1                 True\n",
      "initial_seasons.2            -0.1128251                  s.2                 True\n",
      "initial_seasons.3            -0.1075938                  s.3                 True\n",
      "initial_seasons.4             0.0348641                  s.4                 True\n",
      "initial_seasons.5             0.0460988                  s.5                 True\n",
      "initial_seasons.6            -0.0640589                  s.6                 True\n",
      "---------------------------------------------------------------------------------\n"
     ]
    }
   ],
   "source": [
    "# Summary of the ETS model\n",
    "ets_summary = ets_model.summary()\n",
    "print(ets_summary)"
   ]
  },
  {
   "cell_type": "code",
   "execution_count": 32,
   "metadata": {},
   "outputs": [],
   "source": [
    "# Forecasting\n",
    "forecast_steps = 30  # Forecast for the next 30 days\n",
    "ets_forecast = ets_model.forecast(steps=forecast_steps)\n",
    "\n",
    "actual_values = daily_data[-forecast_steps:]  # Actual values for the forecast period"
   ]
  },
  {
   "cell_type": "code",
   "execution_count": 36,
   "metadata": {},
   "outputs": [
    {
     "name": "stdout",
     "output_type": "stream",
     "text": [
      "Mean Absolute Error (MAE): 0.2189629272424196\n",
      "Mean Squared Error (MSE): 0.07145463075783827\n",
      "Root Mean Squared Error (RMSE): 0.26730999000755334\n",
      "R-squared: 0.038837338396857435\n"
     ]
    }
   ],
   "source": [
    "# Calculate error metrics\n",
    "ets_mae = mean_absolute_error(actual_values, ets_forecast)\n",
    "ets_mse = mean_squared_error(actual_values, ets_forecast)\n",
    "ets_rmse = np.sqrt(ets_mse)\n",
    "ets_r2 = r2_score(actual_values, ets_forecast)\n",
    "\n",
    "print('Mean Absolute Error (MAE):', ets_mae)\n",
    "print('Mean Squared Error (MSE):', ets_mse)\n",
    "print('Root Mean Squared Error (RMSE):', ets_rmse)\n",
    "print('R-squared:', ets_r2)"
   ]
  },
  {
   "cell_type": "code",
   "execution_count": 34,
   "metadata": {},
   "outputs": [
    {
     "name": "stdout",
     "output_type": "stream",
     "text": [
      "Z-scores: 2016-05-28    0.254474\n",
      "2016-05-29   -0.143901\n",
      "2016-05-30    0.465292\n",
      "2016-05-31   -0.421815\n",
      "2016-06-01   -0.323202\n",
      "2016-06-02   -0.305488\n",
      "2016-06-03    0.207060\n",
      "2016-06-04    0.246422\n",
      "2016-06-05   -0.151954\n",
      "2016-06-06    0.457240\n",
      "2016-06-07   -0.429867\n",
      "2016-06-08   -0.331254\n",
      "2016-06-09   -0.313541\n",
      "2016-06-10    0.199007\n",
      "2016-06-11    0.238369\n",
      "2016-06-12   -0.160006\n",
      "2016-06-13    0.449187\n",
      "2016-06-14   -0.437920\n",
      "2016-06-15   -0.339307\n",
      "2016-06-16   -0.321593\n",
      "2016-06-17    0.190954\n",
      "2016-06-18    0.230316\n",
      "2016-06-19   -0.168059\n",
      "2016-06-20    0.441134\n",
      "2016-06-21   -0.445972\n",
      "2016-06-22   -0.347360\n",
      "2016-06-23   -0.329646\n",
      "2016-06-24    0.182902\n",
      "2016-06-25    0.222264\n",
      "2016-06-26   -0.176112\n",
      "Freq: D, dtype: float64\n"
     ]
    }
   ],
   "source": [
    "z_scores = (ets_forecast - actual_values.mean()) / actual_values.std()\n",
    "print('Z-scores:', z_scores)"
   ]
  },
  {
   "cell_type": "markdown",
   "metadata": {},
   "source": [
    "Using cross validation, it makes the results worse but we have robustness and we avoid overfitting"
   ]
  },
  {
   "cell_type": "code",
   "execution_count": null,
   "metadata": {},
   "outputs": [],
   "source": [
    "from sklearn.model_selection import TimeSeriesSplit\n",
    "\n",
    "\n",
    "# Initialize the cross-validation split\n",
    "tscv = TimeSeriesSplit(n_splits=5)\n",
    "\n",
    "# Lists to store metrics for each split\n",
    "mae_list = []\n",
    "mse_list = []\n",
    "rmse_list = []\n",
    "r2_list = []\n",
    "\n",
    "# Perform cross-validation\n",
    "for train_index, test_index in tscv.split(daily_data):\n",
    "    train, test = daily_data.iloc[train_index], daily_data.iloc[test_index]\n",
    "    \n",
    "    # Fit the ETS model\n",
    "    ets_model = sm.tsa.ExponentialSmoothing(train, trend='add', seasonal='add', seasonal_periods=7).fit()\n",
    "    \n",
    "    # Forecasting\n",
    "    forecast_steps = len(test)\n",
    "    ets_forecast = ets_model.forecast(steps=forecast_steps)\n",
    "    \n",
    "    # Calculate error metrics\n",
    "    mae = mean_absolute_error(test, ets_forecast)\n",
    "    mse = mean_squared_error(test, ets_forecast)\n",
    "    rmse = np.sqrt(mse)\n",
    "    r_squared = r2_score(test, ets_forecast)\n",
    "    \n",
    "    \n",
    "    # Append metrics to lists\n",
    "    mae_list.append(mae)\n",
    "    mse_list.append(mse)\n",
    "    rmse_list.append(rmse)\n",
    "    r2_list.append(r_squared)\n",
    "    \n",
    "    \n",
    "# Print average metrics\n",
    "print('Average Mean Absolute Error (MAE):', np.mean(mae_list))\n",
    "print('Average Mean Squared Error (MSE):', np.mean(mse_list))\n",
    "print('Average Root Mean Squared Error (RMSE):', np.mean(rmse_list))\n",
    "print('Average R-squared Error (R^2):', np.mean(r2_list))"
   ]
  },
  {
   "cell_type": "markdown",
   "metadata": {},
   "source": [
    "## VAR model"
   ]
  },
  {
   "cell_type": "code",
   "execution_count": null,
   "metadata": {},
   "outputs": [],
   "source": [
    "# Select the relevant columns for multivariate analysis\n",
    "multivariate_df = df[['Appliances', 'T1', 'RH_1', 'T2', 'RH_2', 'T_out', 'RH_out']].dropna()"
   ]
  },
  {
   "cell_type": "code",
   "execution_count": null,
   "metadata": {},
   "outputs": [],
   "source": [
    "# Split data into training and testing sets\n",
    "train_size = int(len(multivariate_df) * 0.8)\n",
    "train, test = multivariate_df[:train_size], multivariate_df[train_size:]"
   ]
  },
  {
   "cell_type": "code",
   "execution_count": null,
   "metadata": {},
   "outputs": [],
   "source": [
    "# Fit the VAR model\n",
    "model = VAR(train)\n",
    "model_fit = model.fit(maxlags=15, ic='aic')  # You can tune maxlags and information criteria (ic)\n"
   ]
  },
  {
   "cell_type": "code",
   "execution_count": null,
   "metadata": {},
   "outputs": [],
   "source": [
    "# Make predictions\n",
    "forecast_steps = len(test)\n",
    "forecast = model_fit.forecast(model_fit.endog, steps=forecast_steps)\n",
    "forecast_df = pd.DataFrame(forecast, index=test.index, columns=test.columns)\n"
   ]
  },
  {
   "cell_type": "code",
   "execution_count": null,
   "metadata": {},
   "outputs": [],
   "source": [
    "# Evaluate the model\n",
    "mae = mean_absolute_error(test['Appliances'], forecast_df['Appliances'])\n",
    "mse = mean_squared_error(test['Appliances'], forecast_df['Appliances'])\n",
    "rmse = np.sqrt(mse)\n",
    "r_squared = r2_score(test['Appliances'], forecast_df['Appliances'])\n",
    "\n",
    "print('Mean Absolute Error (MAE):', mae)\n",
    "print('Mean Squared Error (MSE):', mse)\n",
    "print('Root Mean Squared Error (RMSE):', rmse)\n",
    "print('R-squared:', r_squared)"
   ]
  },
  {
   "cell_type": "markdown",
   "metadata": {},
   "source": []
  },
  {
   "cell_type": "markdown",
   "metadata": {},
   "source": [
    "## Results"
   ]
  },
  {
   "cell_type": "code",
   "execution_count": 40,
   "metadata": {},
   "outputs": [
    {
     "name": "stderr",
     "output_type": "stream",
     "text": [
      "/tmp/ipykernel_23998/1727480754.py:15: UserWarning: set_ticklabels() should only be used with a fixed number of ticks, i.e. after set_ticks() or using a FixedLocator.\n",
      "  axes[0].set_xticklabels(models, rotation=45)\n",
      "/tmp/ipykernel_23998/1727480754.py:22: UserWarning: set_ticklabels() should only be used with a fixed number of ticks, i.e. after set_ticks() or using a FixedLocator.\n",
      "  axes[1].set_xticklabels(models, rotation=45)\n",
      "/tmp/ipykernel_23998/1727480754.py:29: UserWarning: set_ticklabels() should only be used with a fixed number of ticks, i.e. after set_ticks() or using a FixedLocator.\n",
      "  axes[2].set_xticklabels(models, rotation=45)\n",
      "/tmp/ipykernel_23998/1727480754.py:36: UserWarning: set_ticklabels() should only be used with a fixed number of ticks, i.e. after set_ticks() or using a FixedLocator.\n",
      "  axes[3].set_xticklabels(models, rotation=45)\n"
     ]
    },
    {
     "data": {
      "image/png": "[encoded data removed]",
      "text/plain": [
       "<Figure size 2400x600 with 4 Axes>"
      ]
     },
     "metadata": {},
     "output_type": "display_data"
    }
   ],
   "source": [
    "models = ['ETS', 'ARIMA', 'SARIMA']\n",
    "\n",
    "mae_values = [ets_mae, arima_mae, sarima_mae]\n",
    "mse_values = [ets_mse, arima_mse, sarima_mse ]\n",
    "rmse_values = [ets_rmse, arima_rmse, sarima_rmse]\n",
    "r2_values = [ets_r2, arima_r2, sarima_r2]\n",
    "\n",
    "fig, axes = plt.subplots(nrows=1, ncols=4, figsize=(24, 6))\n",
    "\n",
    "# Plotting MAE\n",
    "axes[0].bar(models, mae_values, color='blue')\n",
    "axes[0].set_title('Mean Absolute Error (MAE)')\n",
    "axes[0].set_xlabel('Models')\n",
    "axes[0].set_ylabel('MAE')\n",
    "axes[0].set_xticklabels(models, rotation=45)\n",
    "\n",
    "# Plotting MSE\n",
    "axes[1].bar(models, mse_values, color='green')\n",
    "axes[1].set_title('Mean Squared Error (MSE)')\n",
    "axes[1].set_xlabel('Models')\n",
    "axes[1].set_ylabel('MSE')\n",
    "axes[1].set_xticklabels(models, rotation=45)\n",
    "\n",
    "# Plotting RMSE\n",
    "axes[2].bar(models, rmse_values, color='red')\n",
    "axes[2].set_title('Root Mean Squared Error (RMSE)')\n",
    "axes[2].set_xlabel('Models')\n",
    "axes[2].set_ylabel('RMSE')\n",
    "axes[2].set_xticklabels(models, rotation=45)\n",
    "\n",
    "# Plotting R-squared\n",
    "axes[3].bar(models, r2_values, color='purple')\n",
    "axes[3].set_title('R-squared')\n",
    "axes[3].set_xlabel('Models')\n",
    "axes[3].set_ylabel('R-squared')\n",
    "axes[3].set_xticklabels(models, rotation=45)\n",
    "\n",
    "plt.tight_layout()\n",
    "plt.show()"
   ]
  }
 ],
 "metadata": {
  "kernelspec": {
   "display_name": "Python 3",
   "language": "python",
   "name": "python3"
  },
  "language_info": {
   "codemirror_mode": {
    "name": "ipython",
    "version": 3
   },
   "file_extension": ".py",
   "mimetype": "text/x-python",
   "name": "python",
   "nbconvert_exporter": "python",
   "pygments_lexer": "ipython3",
   "version": "3.12.4"
  }
 },
 "nbformat": 4,
 "nbformat_minor": 2
}
