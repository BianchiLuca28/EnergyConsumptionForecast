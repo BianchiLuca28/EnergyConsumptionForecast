{
 "cells": [
  {
   "cell_type": "markdown",
   "metadata": {},
   "source": [
    "## Imports: libraries and dataset"
   ]
  },
  {
   "cell_type": "code",
   "execution_count": 1,
   "metadata": {},
   "outputs": [],
   "source": [
    "import pandas as pd\n",
    "import matplotlib.pyplot as plt\n",
    "from statsmodels.tsa.arima.model import ARIMA\n",
    "from statsmodels.tsa.statespace.sarimax import SARIMAX\n",
    "from sklearn.metrics import mean_absolute_error, mean_squared_error\n",
    "import numpy as np\n",
    "import itertools\n",
    "from statsmodels.tsa.stattools import adfuller"
   ]
  },
  {
   "cell_type": "code",
   "execution_count": 2,
   "metadata": {},
   "outputs": [],
   "source": [
    "# Load the dataset\n",
    "df = pd.read_csv('../../dataset/KAG_energydata_complete.csv')\n",
    "\n",
    "# Convert the 'date' column to datetime format and set it as the index\n",
    "df['date'] = pd.to_datetime(df['date'])\n",
    "df.set_index('date', inplace=True)"
   ]
  },
  {
   "cell_type": "markdown",
   "metadata": {},
   "source": [
    "## Arima model"
   ]
  },
  {
   "cell_type": "code",
   "execution_count": 18,
   "metadata": {},
   "outputs": [],
   "source": [
    "# Focusing on the 'Appliances' energy consumption\n",
    "series = df['Appliances']"
   ]
  },
  {
   "cell_type": "code",
   "execution_count": 19,
   "metadata": {},
   "outputs": [
    {
     "name": "stdout",
     "output_type": "stream",
     "text": [
      "ADF Statistic: -21.61637819803621\n",
      "p-value: 0.0\n"
     ]
    }
   ],
   "source": [
    "# Perform ADF test to check for stationarity\n",
    "result = adfuller(series)\n",
    "print('ADF Statistic:', result[0])\n",
    "print('p-value:', result[1])"
   ]
  },
  {
   "cell_type": "code",
   "execution_count": 20,
   "metadata": {},
   "outputs": [],
   "source": [
    "# If the p-value is greater than 0.05, difference the series\n",
    "if result[1] > 0.05:\n",
    "    series = series.diff().dropna()"
   ]
  },
  {
   "cell_type": "code",
   "execution_count": 21,
   "metadata": {},
   "outputs": [
    {
     "name": "stdout",
     "output_type": "stream",
     "text": [
      "Total combinations to evaluate: 27\n"
     ]
    }
   ],
   "source": [
    "# Parameter tuning for ARIMA using a smaller range for efficiency\n",
    "p = d = q = range(0, 3)\n",
    "best_aic = float(\"inf\")\n",
    "best_params = None\n",
    "num_combinations = len(list(itertools.product(p, d, q)))\n",
    "\n",
    "print(f\"Total combinations to evaluate: {num_combinations}\")"
   ]
  },
  {
   "cell_type": "code",
   "execution_count": null,
   "metadata": {},
   "outputs": [],
   "source": [
    "count = 0\n",
    "\n",
    "for param in itertools.product(p, d, q):\n",
    "    count += 1\n",
    "    print(f\"Evaluating combination {count}/{num_combinations}: ARIMA{param}\")\n",
    "    try:\n",
    "        model = ARIMA(series, order=param)\n",
    "        results = model.fit()\n",
    "        if results.aic < best_aic:\n",
    "            best_aic = results.aic\n",
    "            best_params = param\n",
    "    except Exception as e:\n",
    "        print(f\"Combination {param} failed with error: {e}\")\n",
    "        continue\n",
    "\n",
    "print('Best ARIMA parameters:', best_params)\n",
    "print('Best AIC:', best_aic)\n"
   ]
  },
  {
   "cell_type": "code",
   "execution_count": 23,
   "metadata": {},
   "outputs": [
    {
     "name": "stderr",
     "output_type": "stream",
     "text": [
      "/home/stas/.local/lib/python3.12/site-packages/statsmodels/tsa/base/tsa_model.py:473: ValueWarning: No frequency information was provided, so inferred frequency 10min will be used.\n",
      "  self._init_dates(dates, freq)\n",
      "/home/stas/.local/lib/python3.12/site-packages/statsmodels/tsa/base/tsa_model.py:473: ValueWarning: No frequency information was provided, so inferred frequency 10min will be used.\n",
      "  self._init_dates(dates, freq)\n",
      "/home/stas/.local/lib/python3.12/site-packages/statsmodels/tsa/base/tsa_model.py:473: ValueWarning: No frequency information was provided, so inferred frequency 10min will be used.\n",
      "  self._init_dates(dates, freq)\n"
     ]
    }
   ],
   "source": [
    "# Fit the ARIMA model with the best parameters\n",
    "model = ARIMA(series, order=best_params)\n",
    "model_fit = model.fit()"
   ]
  },
  {
   "cell_type": "code",
   "execution_count": 24,
   "metadata": {},
   "outputs": [],
   "source": [
    "# Forecast\n",
    "forecast_steps = 30  # Forecast for 30 time steps ahead\n",
    "forecast = model_fit.forecast(steps=forecast_steps)"
   ]
  },
  {
   "cell_type": "code",
   "execution_count": 26,
   "metadata": {},
   "outputs": [
    {
     "name": "stdout",
     "output_type": "stream",
     "text": [
      "Mean Absolute Error (MAE): 39.73663515185555\n",
      "Mean Squared Error (MSE): 3713.644219823917\n",
      "Root Mean Squared Error (RMSE): 60.93967689300557\n"
     ]
    }
   ],
   "source": [
    "# Evaluate the model\n",
    "y_train = series[:-forecast_steps]\n",
    "y_test = series[-forecast_steps:]\n",
    "y_pred = model_fit.predict(start=len(series)-forecast_steps, end=len(series)-1)\n",
    "\n",
    "mae = mean_absolute_error(y_test, y_pred)\n",
    "mse = mean_squared_error(y_test, y_pred)\n",
    "rmse = np.sqrt(mse)\n",
    "\n",
    "print('Mean Absolute Error (MAE):', mae)\n",
    "print('Mean Squared Error (MSE):', mse)\n",
    "print('Root Mean Squared Error (RMSE):', rmse)"
   ]
  },
  {
   "cell_type": "markdown",
   "metadata": {},
   "source": [
    "## Sarima model"
   ]
  },
  {
   "cell_type": "code",
   "execution_count": 7,
   "metadata": {},
   "outputs": [],
   "source": [
    "# Focusing on the 'Appliances' energy consumption and selecting exogenous variables\n",
    "series = df['Appliances']\n",
    "exog = df[['T1', 'RH_1', 'T2', 'RH_2', 'T_out', 'RH_out']]"
   ]
  },
  {
   "cell_type": "code",
   "execution_count": 25,
   "metadata": {},
   "outputs": [
    {
     "name": "stderr",
     "output_type": "stream",
     "text": [
      "/home/stas/.local/lib/python3.12/site-packages/statsmodels/tsa/base/tsa_model.py:473: ValueWarning: No frequency information was provided, so inferred frequency 10min will be used.\n",
      "  self._init_dates(dates, freq)\n",
      "/home/stas/.local/lib/python3.12/site-packages/statsmodels/tsa/base/tsa_model.py:473: ValueWarning: No frequency information was provided, so inferred frequency 10min will be used.\n",
      "  self._init_dates(dates, freq)\n"
     ]
    }
   ],
   "source": [
    "# Fit the SARIMAX model with the selected parameters and exogenous variables\n",
    "model = SARIMAX(series,\n",
    "                order=(2, 0, 2),\n",
    "                seasonal_order=(1, 0, 1, 24),\n",
    "                exog=exog,\n",
    "                enforce_stationarity=False,\n",
    "                enforce_invertibility=False)\n",
    "model_fit = model.fit(disp=False)\n",
    "\n",
    "# Print summary of the model\n",
    "print(model_fit.summary())"
   ]
  },
  {
   "cell_type": "code",
   "execution_count": 21,
   "metadata": {},
   "outputs": [],
   "source": [
    "# Forecast\n",
    "forecast_steps = 30  # Forecast for 30 time steps ahead\n",
    "exog_forecast = exog.iloc[-forecast_steps:].reset_index(drop=True)\n",
    "forecast = model_fit.forecast(steps=forecast_steps, exog=exog_forecast)"
   ]
  },
  {
   "cell_type": "code",
   "execution_count": 24,
   "metadata": {},
   "outputs": [
    {
     "name": "stdout",
     "output_type": "stream",
     "text": [
      "Mean Absolute Error (MAE): 43.669501705154616\n",
      "Mean Squared Error (MSE): 3914.7614823868043\n",
      "Root Mean Squared Error (RMSE): 62.56805480743991\n"
     ]
    }
   ],
   "source": [
    "# Evaluate the model\n",
    "y_train = series[:-forecast_steps]\n",
    "y_test = series[-forecast_steps:]\n",
    "y_pred = model_fit.predict(start=len(series)-forecast_steps, end=len(series)-1, exog=exog_forecast)\n",
    "\n",
    "mae = mean_absolute_error(y_test, y_pred)\n",
    "mse = mean_squared_error(y_test, y_pred)\n",
    "rmse = np.sqrt(mse)\n",
    "\n",
    "print('Mean Absolute Error (MAE):', mae)\n",
    "print('Mean Squared Error (MSE):', mse)\n",
    "print('Root Mean Squared Error (RMSE):', rmse)"
   ]
  }
 ],
 "metadata": {
  "kernelspec": {
   "display_name": "Python 3",
   "language": "python",
   "name": "python3"
  },
  "language_info": {
   "codemirror_mode": {
    "name": "ipython",
    "version": 3
   },
   "file_extension": ".py",
   "mimetype": "text/x-python",
   "name": "python",
   "nbconvert_exporter": "python",
   "pygments_lexer": "ipython3",
   "version": "3.12.3"
  }
 },
 "nbformat": 4,
 "nbformat_minor": 2
}
