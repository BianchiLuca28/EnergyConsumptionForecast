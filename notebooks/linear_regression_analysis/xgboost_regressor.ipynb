{
 "cells": [
  {
   "cell_type": "code",
   "execution_count": 1,
   "metadata": {},
   "outputs": [],
   "source": [
    "%matplotlib inline\n",
    "\n",
    "import matplotlib\n",
    "import matplotlib.pyplot as plt\n",
    "import numpy as np\n",
    "import pandas as pd\n",
    "import seaborn as sns\n",
    "import os\n",
    "import zipfile\n",
    "# import cv2\n",
    "import tensorflow as tf\n",
    "import time\n",
    "import dateutil\n",
    "import sklearn.metrics as sm"
   ]
  },
  {
   "cell_type": "code",
   "execution_count": 2,
   "metadata": {},
   "outputs": [],
   "source": [
    "data = pd.read_csv(\"../../dataset/KAG_energydata_complete.csv\")"
   ]
  },
  {
   "cell_type": "code",
   "execution_count": 3,
   "metadata": {},
   "outputs": [
    {
     "data": {
      "text/plain": [
       "<Axes: >"
      ]
     },
     "execution_count": 3,
     "metadata": {},
     "output_type": "execute_result"
    },
    {
     "data": {
      "image/png": "[encoded data removed]",
      "text/plain": [
       "<Figure size 640x480 with 1 Axes>"
      ]
     },
     "metadata": {},
     "output_type": "display_data"
    }
   ],
   "source": [
    "data.columns = [x.lower() for x in data.columns]\n",
    "data = data[data['appliances'].between(data['appliances'].quantile(.0), data['appliances'].quantile(.99))]\n",
    "\n",
    "sns.boxplot(data[\"appliances\"],color=\"green\")"
   ]
  },
  {
   "cell_type": "code",
   "execution_count": 4,
   "metadata": {},
   "outputs": [
    {
     "data": {
      "text/html": [
       "<div>\n",
       "<style scoped>\n",
       "    .dataframe tbody tr th:only-of-type {\n",
       "        vertical-align: middle;\n",
       "    }\n",
       "\n",
       "    .dataframe tbody tr th {\n",
       "        vertical-align: top;\n",
       "    }\n",
       "\n",
       "    .dataframe thead th {\n",
       "        text-align: right;\n",
       "    }\n",
       "</style>\n",
       "<table border=\"1\" class=\"dataframe\">\n",
       "  <thead>\n",
       "    <tr style=\"text-align: right;\">\n",
       "      <th></th>\n",
       "      <th>date</th>\n",
       "      <th>appliances</th>\n",
       "      <th>lights</th>\n",
       "      <th>t1</th>\n",
       "      <th>rh_1</th>\n",
       "      <th>t2</th>\n",
       "      <th>rh_2</th>\n",
       "      <th>t3</th>\n",
       "      <th>rh_3</th>\n",
       "      <th>t4</th>\n",
       "      <th>...</th>\n",
       "      <th>rv1</th>\n",
       "      <th>rv2</th>\n",
       "      <th>exact_date</th>\n",
       "      <th>hours</th>\n",
       "      <th>seconds</th>\n",
       "      <th>week</th>\n",
       "      <th>weekday</th>\n",
       "      <th>log_appliances</th>\n",
       "      <th>hour*lights</th>\n",
       "      <th>hour_avg</th>\n",
       "    </tr>\n",
       "  </thead>\n",
       "  <tbody>\n",
       "    <tr>\n",
       "      <th>0</th>\n",
       "      <td>2016-01-11 17:00:00</td>\n",
       "      <td>60</td>\n",
       "      <td>30</td>\n",
       "      <td>19.89</td>\n",
       "      <td>47.596667</td>\n",
       "      <td>19.2</td>\n",
       "      <td>44.790000</td>\n",
       "      <td>19.79</td>\n",
       "      <td>44.730000</td>\n",
       "      <td>19.000000</td>\n",
       "      <td>...</td>\n",
       "      <td>13.275433</td>\n",
       "      <td>13.275433</td>\n",
       "      <td>2016-01-11</td>\n",
       "      <td>17</td>\n",
       "      <td>0</td>\n",
       "      <td>Tuesday</td>\n",
       "      <td>1</td>\n",
       "      <td>4.094345</td>\n",
       "      <td>510</td>\n",
       "      <td>141.919699</td>\n",
       "    </tr>\n",
       "    <tr>\n",
       "      <th>1</th>\n",
       "      <td>2016-01-11 17:10:00</td>\n",
       "      <td>60</td>\n",
       "      <td>30</td>\n",
       "      <td>19.89</td>\n",
       "      <td>46.693333</td>\n",
       "      <td>19.2</td>\n",
       "      <td>44.722500</td>\n",
       "      <td>19.79</td>\n",
       "      <td>44.790000</td>\n",
       "      <td>19.000000</td>\n",
       "      <td>...</td>\n",
       "      <td>18.606195</td>\n",
       "      <td>18.606195</td>\n",
       "      <td>2016-01-11</td>\n",
       "      <td>17</td>\n",
       "      <td>600</td>\n",
       "      <td>Tuesday</td>\n",
       "      <td>1</td>\n",
       "      <td>4.094345</td>\n",
       "      <td>510</td>\n",
       "      <td>141.919699</td>\n",
       "    </tr>\n",
       "    <tr>\n",
       "      <th>2</th>\n",
       "      <td>2016-01-11 17:20:00</td>\n",
       "      <td>50</td>\n",
       "      <td>30</td>\n",
       "      <td>19.89</td>\n",
       "      <td>46.300000</td>\n",
       "      <td>19.2</td>\n",
       "      <td>44.626667</td>\n",
       "      <td>19.79</td>\n",
       "      <td>44.933333</td>\n",
       "      <td>18.926667</td>\n",
       "      <td>...</td>\n",
       "      <td>28.642668</td>\n",
       "      <td>28.642668</td>\n",
       "      <td>2016-01-11</td>\n",
       "      <td>17</td>\n",
       "      <td>1200</td>\n",
       "      <td>Tuesday</td>\n",
       "      <td>1</td>\n",
       "      <td>3.912023</td>\n",
       "      <td>510</td>\n",
       "      <td>141.919699</td>\n",
       "    </tr>\n",
       "    <tr>\n",
       "      <th>3</th>\n",
       "      <td>2016-01-11 17:30:00</td>\n",
       "      <td>50</td>\n",
       "      <td>40</td>\n",
       "      <td>19.89</td>\n",
       "      <td>46.066667</td>\n",
       "      <td>19.2</td>\n",
       "      <td>44.590000</td>\n",
       "      <td>19.79</td>\n",
       "      <td>45.000000</td>\n",
       "      <td>18.890000</td>\n",
       "      <td>...</td>\n",
       "      <td>45.410389</td>\n",
       "      <td>45.410389</td>\n",
       "      <td>2016-01-11</td>\n",
       "      <td>17</td>\n",
       "      <td>1800</td>\n",
       "      <td>Tuesday</td>\n",
       "      <td>1</td>\n",
       "      <td>3.912023</td>\n",
       "      <td>680</td>\n",
       "      <td>141.919699</td>\n",
       "    </tr>\n",
       "    <tr>\n",
       "      <th>4</th>\n",
       "      <td>2016-01-11 17:40:00</td>\n",
       "      <td>60</td>\n",
       "      <td>40</td>\n",
       "      <td>19.89</td>\n",
       "      <td>46.333333</td>\n",
       "      <td>19.2</td>\n",
       "      <td>44.530000</td>\n",
       "      <td>19.79</td>\n",
       "      <td>45.000000</td>\n",
       "      <td>18.890000</td>\n",
       "      <td>...</td>\n",
       "      <td>10.084097</td>\n",
       "      <td>10.084097</td>\n",
       "      <td>2016-01-11</td>\n",
       "      <td>17</td>\n",
       "      <td>2400</td>\n",
       "      <td>Tuesday</td>\n",
       "      <td>1</td>\n",
       "      <td>4.094345</td>\n",
       "      <td>680</td>\n",
       "      <td>141.919699</td>\n",
       "    </tr>\n",
       "  </tbody>\n",
       "</table>\n",
       "<p>5 rows × 37 columns</p>\n",
       "</div>"
      ],
      "text/plain": [
       "                  date  appliances  lights     t1       rh_1    t2       rh_2  \\\n",
       "0  2016-01-11 17:00:00          60      30  19.89  47.596667  19.2  44.790000   \n",
       "1  2016-01-11 17:10:00          60      30  19.89  46.693333  19.2  44.722500   \n",
       "2  2016-01-11 17:20:00          50      30  19.89  46.300000  19.2  44.626667   \n",
       "3  2016-01-11 17:30:00          50      40  19.89  46.066667  19.2  44.590000   \n",
       "4  2016-01-11 17:40:00          60      40  19.89  46.333333  19.2  44.530000   \n",
       "\n",
       "      t3       rh_3         t4  ...        rv1        rv2  exact_date  hours  \\\n",
       "0  19.79  44.730000  19.000000  ...  13.275433  13.275433  2016-01-11     17   \n",
       "1  19.79  44.790000  19.000000  ...  18.606195  18.606195  2016-01-11     17   \n",
       "2  19.79  44.933333  18.926667  ...  28.642668  28.642668  2016-01-11     17   \n",
       "3  19.79  45.000000  18.890000  ...  45.410389  45.410389  2016-01-11     17   \n",
       "4  19.79  45.000000  18.890000  ...  10.084097  10.084097  2016-01-11     17   \n",
       "\n",
       "   seconds     week  weekday  log_appliances  hour*lights    hour_avg  \n",
       "0        0  Tuesday        1        4.094345          510  141.919699  \n",
       "1      600  Tuesday        1        4.094345          510  141.919699  \n",
       "2     1200  Tuesday        1        3.912023          510  141.919699  \n",
       "3     1800  Tuesday        1        3.912023          680  141.919699  \n",
       "4     2400  Tuesday        1        4.094345          680  141.919699  \n",
       "\n",
       "[5 rows x 37 columns]"
      ]
     },
     "execution_count": 4,
     "metadata": {},
     "output_type": "execute_result"
    }
   ],
   "source": [
    "data[\"exact_date\"] = data['date'].str.split(' ').str[0]\n",
    "\n",
    "data[\"hours\"] = (data['date'].str.split(':').str[0].str.split(\" \").str[1]).astype(str).astype(int)\n",
    "data[\"seconds\"] = ((data['date'].str.split(':').str[1])).astype(str).astype(int).mul(60)\n",
    "\n",
    "data[\"week\"] = (data['date'].str.split(' ').str[0])\n",
    "data[\"week\"] = (data['week'].apply(dateutil.parser.parse, dayfirst=True))\n",
    "data[\"weekday\"] = (data['week'].dt.dayofweek).astype(str).astype(int)\n",
    "data[\"week\"]=  (data['week'].dt.day_name())\n",
    "\n",
    "data['log_appliances'] = np.log(data.appliances)\n",
    "data['hour*lights'] = data.hours * data.lights\n",
    "data['hour_avg'] = list(map(dict(data.groupby('hours')[\"appliances\"].mean()).get, data.hours))\n",
    "\n",
    "data.head(5)"
   ]
  },
  {
   "cell_type": "code",
   "execution_count": 5,
   "metadata": {},
   "outputs": [
    {
     "name": "stderr",
     "output_type": "stream",
     "text": [
      "C:\\Users\\Utente\\AppData\\Local\\Temp\\ipykernel_22152\\4237529187.py:4: FutureWarning: The default value of numeric_only in DataFrameGroupBy.mean is deprecated. In a future version, numeric_only will default to False. Either specify numeric_only or select only columns which should be valid for the function.\n",
      "  df_hour = data.resample('1H').mean()\n",
      "C:\\Users\\Utente\\AppData\\Local\\Temp\\ipykernel_22152\\4237529187.py:5: FutureWarning: The default value of numeric_only in DataFrameGroupBy.mean is deprecated. In a future version, numeric_only will default to False. Either specify numeric_only or select only columns which should be valid for the function.\n",
      "  df_30min =data.resample('30min').mean()\n"
     ]
    }
   ],
   "source": [
    "# Data sets in 30 minitues and 1 hour basis\n",
    "data['date'] = pd.to_datetime(data['date'])\n",
    "data = data.set_index('date')\n",
    "df_hour = data.resample('1H').mean()\n",
    "df_30min =data.resample('30min').mean()"
   ]
  },
  {
   "cell_type": "code",
   "execution_count": 6,
   "metadata": {},
   "outputs": [],
   "source": [
    "# Qualitative predictors \n",
    "'''We assume that we have low(high) energy load when the appliances consumption is lower(higher) \n",
    "   than a given point of the hourly average counsumption. This point is dependent of data time frequency \n",
    "   and the numbers below are set after several tryouts based on appliances' consumption standard deviation.\n",
    "'''\n",
    "\n",
    "data['low_consum'] = (data.appliances+25<(data.hour_avg))*1\n",
    "data['high_consum'] = (data.appliances+100>(data.hour_avg))*1\n",
    "\n",
    "df_hour['low_consum'] = (df_hour.appliances+25<(df_hour.hour_avg))*1\n",
    "df_hour['high_consum'] = (df_hour.appliances+25>(df_hour.hour_avg))*1\n",
    "\n",
    "df_30min['low_consum'] = (df_30min.appliances+25<(df_30min.hour_avg))*1\n",
    "df_30min['high_consum'] = (df_30min.appliances+35>(df_30min.hour_avg))*1"
   ]
  },
  {
   "cell_type": "code",
   "execution_count": 7,
   "metadata": {},
   "outputs": [],
   "source": [
    "for cat_feature in ['weekday', 'hours']:\n",
    "    df_hour = pd.concat([df_hour, pd.get_dummies(df_hour[cat_feature])], axis=1)\n",
    "    df_30min = pd.concat([df_30min, pd.get_dummies(df_30min[cat_feature])], axis=1)\n",
    "    df = pd.concat([data, pd.get_dummies(data[cat_feature])], axis=1)"
   ]
  },
  {
   "cell_type": "markdown",
   "metadata": {},
   "source": [
    "# Modelling"
   ]
  },
  {
   "cell_type": "code",
   "execution_count": 8,
   "metadata": {},
   "outputs": [],
   "source": [
    "feature_set = ['low_consum','high_consum','hours','t6','rh_6','lights','hour*lights',\n",
    "               'tdewpoint','visibility','press_mm_hg','windspeed']"
   ]
  },
  {
   "cell_type": "code",
   "execution_count": 9,
   "metadata": {},
   "outputs": [
    {
     "name": "stderr",
     "output_type": "stream",
     "text": [
      "C:\\Users\\Utente\\AppData\\Local\\Temp\\ipykernel_22152\\2665868572.py:4: UserWarning: Pandas doesn't allow columns to be created via a new attribute name - see https://pandas.pydata.org/pandas-docs/stable/indexing.html#attribute-access\n",
      "  df_hour.hour = df_hour.hours.astype(float)\n"
     ]
    }
   ],
   "source": [
    "# to avoid warnings from standardscaler\n",
    "df_hour.lights = df_hour.lights.astype(float)\n",
    "df_hour.log_appliances = df_hour.log_appliances.astype(float)\n",
    "df_hour.hour = df_hour.hours.astype(float)\n",
    "df_hour.low_consum = df_hour.low_consum.astype(float)\n",
    "df_hour.high_consum = df_hour.high_consum.astype(float)"
   ]
  },
  {
   "cell_type": "code",
   "execution_count": 10,
   "metadata": {},
   "outputs": [],
   "source": [
    "# Creation of train/test sets\n",
    "test_size=.2\n",
    "test_index = int(len(df_hour.dropna())*(1-test_size))\n",
    "\n",
    "X_train, X_test = df_hour[feature_set].iloc[:test_index,], df_hour[feature_set].iloc[test_index:,]\n",
    "y_train = df_hour.log_appliances.iloc[:test_index,]\n",
    "\n",
    "y_test =  df_hour.log_appliances.iloc[test_index:,]"
   ]
  },
  {
   "cell_type": "code",
   "execution_count": 11,
   "metadata": {},
   "outputs": [],
   "source": [
    "from sklearn.preprocessing import StandardScaler\n",
    "\n",
    "# Normalizing of X matrices for each model to mean = 0 and standard deviation = 1\n",
    "\n",
    "scaler = StandardScaler()\n",
    "scaler.fit(X_train)\n",
    "X_train = scaler.transform(X_train)\n",
    "X_test = scaler.transform(X_test)"
   ]
  },
  {
   "cell_type": "code",
   "execution_count": 12,
   "metadata": {},
   "outputs": [
    {
     "name": "stdout",
     "output_type": "stream",
     "text": [
      "XGBRegressor(base_score=None, booster='gbtree', callbacks=None,\n",
      "             colsample_bylevel=None, colsample_bynode=None,\n",
      "             colsample_bytree=None, early_stopping_rounds=None,\n",
      "             enable_categorical=False, eta=0.1, eval_metric='mae',\n",
      "             feature_types=None, gamma=None, gpu_id=None, grow_policy=None,\n",
      "             importance_type=None, interaction_constraints=None,\n",
      "             learning_rate=None, max_bin=None, max_cat_threshold=None,\n",
      "             max_cat_to_onehot=None, max_delta_step=None, max_depth=4,\n",
      "             max_leaves=None, min_child_weight=None, missing=nan,\n",
      "             monotone_constraints=None, n_estimators=100, n_jobs=None,\n",
      "             nthread=4, num_parallel_tree=None, ...)\n",
      "{'booster': 'gbtree', 'eta': 0.1, 'eval_metric': 'mae', 'max_depth': 4, 'nthread': 4, 'objective': 'reg:squarederror'}\n"
     ]
    }
   ],
   "source": [
    "from sklearn.model_selection import GridSearchCV\n",
    "import xgboost as xgb\n",
    "from xgboost import plot_importance\n",
    "\n",
    "parameters = {\n",
    "    'booster': [\"gbtree\"],\n",
    "    'max_depth': [4, 6, 8, 10],\n",
    "    'eta' : [0.1, 0.01, 0.001],\n",
    "    'eval_metric': [\"mae\", \"rmse\"],\n",
    "    'nthread': [4],\n",
    "    'objective':[\"reg:squarederror\"]\n",
    "}\n",
    "\n",
    "# Instantiate the grid search model\n",
    "grid_model = GridSearchCV(xgb.XGBRegressor(random_state=42), parameters)\n",
    "# grid_search = GridSearchCV(estimator = ExtraTreesRegressor(random_state=40), param_grid = parameters, cv = 5, n_jobs = -1 , scoring='r2' , verbose=2)\n",
    "grid_model.fit(X_train, y_train)\n",
    "print(grid_model.best_estimator_)\n",
    "print(grid_model.best_params_)"
   ]
  },
  {
   "cell_type": "code",
   "execution_count": 13,
   "metadata": {},
   "outputs": [],
   "source": [
    "from sklearn.model_selection import TimeSeriesSplit\n",
    "from sklearn.metrics import mean_squared_error, r2_score\n",
    "from sklearn.model_selection import cross_val_score, cross_val_predict\n",
    "\n",
    "# Function to evaluate the models\n",
    "def evaluate(model, test_features, test_labels):\n",
    "    predictions = model.predict(test_features)\n",
    "    errors = abs(predictions - test_labels)\n",
    "    mape = 100 * np.mean(errors / test_labels)\n",
    "    r_score = 100*r2_score(test_labels,predictions)\n",
    "    accuracy = 100 - mape\n",
    "    print(model,'\\n')\n",
    "    print('Average Error       : {:0.4f} degrees'.format(np.mean(errors)))\n",
    "    print('Variance score R^2  : {:0.2f}%' .format(r_score))\n",
    "    print('RMSE                : {:0.2f}'.format(np.sqrt(mean_squared_error(test_labels,predictions))))\n",
    "    # print('Accuracy            : {:0.2f}%\\n'.format(accuracy))"
   ]
  },
  {
   "cell_type": "code",
   "execution_count": 14,
   "metadata": {},
   "outputs": [
    {
     "name": "stdout",
     "output_type": "stream",
     "text": [
      "GridSearchCV(estimator=XGBRegressor(base_score=None, booster=None,\n",
      "                                    callbacks=None, colsample_bylevel=None,\n",
      "                                    colsample_bynode=None,\n",
      "                                    colsample_bytree=None,\n",
      "                                    early_stopping_rounds=None,\n",
      "                                    enable_categorical=False, eval_metric=None,\n",
      "                                    feature_types=None, gamma=None, gpu_id=None,\n",
      "                                    grow_policy=None, importance_type=None,\n",
      "                                    interaction_constraints=None,\n",
      "                                    learning_rate=None, max_bi...\n",
      "                                    max_cat_to_onehot=None, max_delta_step=None,\n",
      "                                    max_depth=None, max_leaves=None,\n",
      "                                    min_child_weight=None, missing=nan,\n",
      "                                    monotone_constraints=None, n_estimators=100,\n",
      "                                    n_jobs=None, num_parallel_tree=None,\n",
      "                                    predictor=None, random_state=42, ...),\n",
      "             param_grid={'booster': ['gbtree'], 'eta': [0.1, 0.01, 0.001],\n",
      "                         'eval_metric': ['mae', 'rmse'],\n",
      "                         'max_depth': [4, 6, 8, 10], 'nthread': [4],\n",
      "                         'objective': ['reg:squarederror']}) \n",
      "\n",
      "Average Error       : 0.1955 degrees\n",
      "Variance score R^2  : 66.98%\n",
      "RMSE                : 0.27\n"
     ]
    }
   ],
   "source": [
    "best_rf_model = grid_model.best_estimator_\n",
    "grid_accuracy = evaluate(grid_model, X_test, y_test)\n",
    "y_best_pred = best_rf_model.predict(X_test)"
   ]
  },
  {
   "cell_type": "code",
   "execution_count": null,
   "metadata": {},
   "outputs": [],
   "source": []
  }
 ],
 "metadata": {
  "kernelspec": {
   "display_name": "base",
   "language": "python",
   "name": "python3"
  },
  "language_info": {
   "codemirror_mode": {
    "name": "ipython",
    "version": 3
   },
   "file_extension": ".py",
   "mimetype": "text/x-python",
   "name": "python",
   "nbconvert_exporter": "python",
   "pygments_lexer": "ipython3",
   "version": "3.10.9"
  }
 },
 "nbformat": 4,
 "nbformat_minor": 2
}
