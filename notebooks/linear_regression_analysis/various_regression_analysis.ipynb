{
 "cells": [
  {
   "metadata": {},
   "cell_type": "markdown",
   "source": "# Linear Regression Analysis",
   "id": "f45a9c6c8b27fd71"
  },
  {
   "metadata": {},
   "cell_type": "markdown",
   "source": [
    "Author(s):\n",
    "* Federico Maria Cruciani"
   ],
   "id": "1ebecb6e91e38d28"
  },
  {
   "metadata": {
    "ExecuteTime": {
     "end_time": "2024-07-04T10:38:01.855978Z",
     "start_time": "2024-07-04T10:38:01.835818Z"
    }
   },
   "cell_type": "code",
   "source": [
    "import time\n",
    "import pandas as pd\n",
    "import matplotlib.pyplot as plt\n",
    "import seaborn as sns\n",
    "\n",
    "from sklearn.model_selection import train_test_split\n",
    "from math import sqrt\n",
    "from sklearn.metrics import mean_squared_error, r2_score"
   ],
   "id": "6607d3efbd609e7c",
   "outputs": [],
   "execution_count": 188
  },
  {
   "metadata": {
    "ExecuteTime": {
     "end_time": "2024-07-04T10:38:02.604848Z",
     "start_time": "2024-07-04T10:38:02.418969Z"
    }
   },
   "cell_type": "code",
   "source": "df = pd.read_csv('../../dataset/KAG_energydata_complete.csv')",
   "id": "a4ece4016971c19b",
   "outputs": [],
   "execution_count": 189
  },
  {
   "metadata": {},
   "cell_type": "markdown",
   "source": "## Setup data",
   "id": "2616ef04605f9e62"
  },
  {
   "metadata": {
    "ExecuteTime": {
     "end_time": "2024-07-04T10:38:03.082537Z",
     "start_time": "2024-07-04T10:38:03.075913Z"
    }
   },
   "cell_type": "code",
   "source": [
    "col_temp = [\"T1\", \"T2\", \"T3\", \"T4\", \"T5\", \"T6\", \"T7\", \"T8\", \"T9\"]\n",
    "col_hum = [\"RH_1\", \"RH_2\", \"RH_3\", \"RH_4\", \"RH_5\", \"RH_6\", \"RH_7\", \"RH_8\", \"RH_9\"]\n",
    "col_weather = [\"T_out\", \"Tdewpoint\", \"RH_out\", \"Press_mm_hg\", \"Windspeed\", \"Visibility\"]\n",
    "col_light = [\"lights\"]\n",
    "col_randoms = [\"rv1\", \"rv2\"]\n",
    "col_target = [\"Appliances\"]"
   ],
   "id": "99961595719b669f",
   "outputs": [],
   "execution_count": 190
  },
  {
   "metadata": {
    "ExecuteTime": {
     "end_time": "2024-07-04T10:38:03.857871Z",
     "start_time": "2024-07-04T10:38:03.824552Z"
    }
   },
   "cell_type": "code",
   "source": [
    "train: pd.DataFrame\n",
    "test: pd.DataFrame\n",
    "train, test = train_test_split(df, test_size=0.25, random_state=42)\n",
    "feature_vars = train[col_temp + col_hum + col_weather + col_randoms]\n",
    "target_vars = train[col_target]"
   ],
   "id": "eb79dfaf1219213d",
   "outputs": [],
   "execution_count": 191
  },
  {
   "metadata": {
    "ExecuteTime": {
     "end_time": "2024-07-04T10:38:07.334416Z",
     "start_time": "2024-07-04T10:38:07.181983Z"
    }
   },
   "cell_type": "code",
   "source": "feature_vars.describe()",
   "id": "2e968b5bbf189d9b",
   "outputs": [
    {
     "data": {
      "text/plain": [
       "                 T1            T2            T3            T4            T5  \\\n",
       "count  14801.000000  14801.000000  14801.000000  14801.000000  14801.000000   \n",
       "mean      21.684882     20.340154     22.262874     20.847201     19.588907   \n",
       "std        1.607712      2.194775      2.003559      2.045689      1.846895   \n",
       "min       16.790000     16.100000     17.200000     15.100000     15.330000   \n",
       "25%       20.760000     18.790000     20.790000     19.500000     18.275000   \n",
       "50%       21.600000     20.000000     22.100000     20.600000     19.390000   \n",
       "75%       22.600000     21.500000     23.290000     22.100000     20.600000   \n",
       "max       26.260000     29.856667     29.236000     26.200000     25.795000   \n",
       "\n",
       "                 T6            T7            T8            T9          RH_1  \\\n",
       "count  14801.000000  14801.000000  14801.000000  14801.000000  14801.000000   \n",
       "mean       7.902213     20.261409     22.026272     19.481392     40.258743   \n",
       "std        6.100189      2.112339      1.955867      2.017567      3.964974   \n",
       "min       -6.030000     15.390000     16.306667     14.890000     27.023333   \n",
       "25%        3.590000     18.700000     20.790000     18.000000     37.363333   \n",
       "50%        7.300000     20.000000     22.100000     19.390000     39.633333   \n",
       "75%       11.233333     21.600000     23.390000     20.600000     43.060000   \n",
       "max       28.290000     25.963333     27.230000     24.500000     57.423333   \n",
       "\n",
       "       ...          RH_8          RH_9         T_out     Tdewpoint  \\\n",
       "count  ...  14801.000000  14801.000000  14801.000000  14801.000000   \n",
       "mean   ...     42.951792     41.564688      7.409235      3.770374   \n",
       "std    ...      5.225716      4.157938      5.326024      4.199840   \n",
       "min    ...     29.600000     29.166667     -5.000000     -6.600000   \n",
       "25%    ...     39.090000     38.518000      3.600000      0.900000   \n",
       "50%    ...     42.397143     40.900000      6.900000      3.433333   \n",
       "75%    ...     46.555000     44.363333     10.400000      6.583333   \n",
       "max    ...     58.780000     53.326667     26.100000     15.400000   \n",
       "\n",
       "             RH_out   Press_mm_hg     Windspeed    Visibility           rv1  \\\n",
       "count  14801.000000  14801.000000  14801.000000  14801.000000  14801.000000   \n",
       "mean      79.815677    755.535791      4.031558     38.336201     25.026830   \n",
       "std       14.908459      7.380735      2.438925     11.825196     14.496293   \n",
       "min       24.000000    729.300000      0.000000      1.000000      0.006033   \n",
       "25%       70.333333    750.933333      2.000000     29.000000     12.511717   \n",
       "50%       84.000000    756.100000      3.666667     40.000000     24.930300   \n",
       "75%       91.666667    760.966667      5.333333     40.000000     37.660334   \n",
       "max      100.000000    772.283333     14.000000     66.000000     49.996530   \n",
       "\n",
       "                rv2  \n",
       "count  14801.000000  \n",
       "mean      25.026830  \n",
       "std       14.496293  \n",
       "min        0.006033  \n",
       "25%       12.511717  \n",
       "50%       24.930300  \n",
       "75%       37.660334  \n",
       "max       49.996530  \n",
       "\n",
       "[8 rows x 26 columns]"
      ],
      "text/html": [
       "<div>\n",
       "<style scoped>\n",
       "    .dataframe tbody tr th:only-of-type {\n",
       "        vertical-align: middle;\n",
       "    }\n",
       "\n",
       "    .dataframe tbody tr th {\n",
       "        vertical-align: top;\n",
       "    }\n",
       "\n",
       "    .dataframe thead th {\n",
       "        text-align: right;\n",
       "    }\n",
       "</style>\n",
       "<table border=\"1\" class=\"dataframe\">\n",
       "  <thead>\n",
       "    <tr style=\"text-align: right;\">\n",
       "      <th></th>\n",
       "      <th>T1</th>\n",
       "      <th>T2</th>\n",
       "      <th>T3</th>\n",
       "      <th>T4</th>\n",
       "      <th>T5</th>\n",
       "      <th>T6</th>\n",
       "      <th>T7</th>\n",
       "      <th>T8</th>\n",
       "      <th>T9</th>\n",
       "      <th>RH_1</th>\n",
       "      <th>...</th>\n",
       "      <th>RH_8</th>\n",
       "      <th>RH_9</th>\n",
       "      <th>T_out</th>\n",
       "      <th>Tdewpoint</th>\n",
       "      <th>RH_out</th>\n",
       "      <th>Press_mm_hg</th>\n",
       "      <th>Windspeed</th>\n",
       "      <th>Visibility</th>\n",
       "      <th>rv1</th>\n",
       "      <th>rv2</th>\n",
       "    </tr>\n",
       "  </thead>\n",
       "  <tbody>\n",
       "    <tr>\n",
       "      <th>count</th>\n",
       "      <td>14801.000000</td>\n",
       "      <td>14801.000000</td>\n",
       "      <td>14801.000000</td>\n",
       "      <td>14801.000000</td>\n",
       "      <td>14801.000000</td>\n",
       "      <td>14801.000000</td>\n",
       "      <td>14801.000000</td>\n",
       "      <td>14801.000000</td>\n",
       "      <td>14801.000000</td>\n",
       "      <td>14801.000000</td>\n",
       "      <td>...</td>\n",
       "      <td>14801.000000</td>\n",
       "      <td>14801.000000</td>\n",
       "      <td>14801.000000</td>\n",
       "      <td>14801.000000</td>\n",
       "      <td>14801.000000</td>\n",
       "      <td>14801.000000</td>\n",
       "      <td>14801.000000</td>\n",
       "      <td>14801.000000</td>\n",
       "      <td>14801.000000</td>\n",
       "      <td>14801.000000</td>\n",
       "    </tr>\n",
       "    <tr>\n",
       "      <th>mean</th>\n",
       "      <td>21.684882</td>\n",
       "      <td>20.340154</td>\n",
       "      <td>22.262874</td>\n",
       "      <td>20.847201</td>\n",
       "      <td>19.588907</td>\n",
       "      <td>7.902213</td>\n",
       "      <td>20.261409</td>\n",
       "      <td>22.026272</td>\n",
       "      <td>19.481392</td>\n",
       "      <td>40.258743</td>\n",
       "      <td>...</td>\n",
       "      <td>42.951792</td>\n",
       "      <td>41.564688</td>\n",
       "      <td>7.409235</td>\n",
       "      <td>3.770374</td>\n",
       "      <td>79.815677</td>\n",
       "      <td>755.535791</td>\n",
       "      <td>4.031558</td>\n",
       "      <td>38.336201</td>\n",
       "      <td>25.026830</td>\n",
       "      <td>25.026830</td>\n",
       "    </tr>\n",
       "    <tr>\n",
       "      <th>std</th>\n",
       "      <td>1.607712</td>\n",
       "      <td>2.194775</td>\n",
       "      <td>2.003559</td>\n",
       "      <td>2.045689</td>\n",
       "      <td>1.846895</td>\n",
       "      <td>6.100189</td>\n",
       "      <td>2.112339</td>\n",
       "      <td>1.955867</td>\n",
       "      <td>2.017567</td>\n",
       "      <td>3.964974</td>\n",
       "      <td>...</td>\n",
       "      <td>5.225716</td>\n",
       "      <td>4.157938</td>\n",
       "      <td>5.326024</td>\n",
       "      <td>4.199840</td>\n",
       "      <td>14.908459</td>\n",
       "      <td>7.380735</td>\n",
       "      <td>2.438925</td>\n",
       "      <td>11.825196</td>\n",
       "      <td>14.496293</td>\n",
       "      <td>14.496293</td>\n",
       "    </tr>\n",
       "    <tr>\n",
       "      <th>min</th>\n",
       "      <td>16.790000</td>\n",
       "      <td>16.100000</td>\n",
       "      <td>17.200000</td>\n",
       "      <td>15.100000</td>\n",
       "      <td>15.330000</td>\n",
       "      <td>-6.030000</td>\n",
       "      <td>15.390000</td>\n",
       "      <td>16.306667</td>\n",
       "      <td>14.890000</td>\n",
       "      <td>27.023333</td>\n",
       "      <td>...</td>\n",
       "      <td>29.600000</td>\n",
       "      <td>29.166667</td>\n",
       "      <td>-5.000000</td>\n",
       "      <td>-6.600000</td>\n",
       "      <td>24.000000</td>\n",
       "      <td>729.300000</td>\n",
       "      <td>0.000000</td>\n",
       "      <td>1.000000</td>\n",
       "      <td>0.006033</td>\n",
       "      <td>0.006033</td>\n",
       "    </tr>\n",
       "    <tr>\n",
       "      <th>25%</th>\n",
       "      <td>20.760000</td>\n",
       "      <td>18.790000</td>\n",
       "      <td>20.790000</td>\n",
       "      <td>19.500000</td>\n",
       "      <td>18.275000</td>\n",
       "      <td>3.590000</td>\n",
       "      <td>18.700000</td>\n",
       "      <td>20.790000</td>\n",
       "      <td>18.000000</td>\n",
       "      <td>37.363333</td>\n",
       "      <td>...</td>\n",
       "      <td>39.090000</td>\n",
       "      <td>38.518000</td>\n",
       "      <td>3.600000</td>\n",
       "      <td>0.900000</td>\n",
       "      <td>70.333333</td>\n",
       "      <td>750.933333</td>\n",
       "      <td>2.000000</td>\n",
       "      <td>29.000000</td>\n",
       "      <td>12.511717</td>\n",
       "      <td>12.511717</td>\n",
       "    </tr>\n",
       "    <tr>\n",
       "      <th>50%</th>\n",
       "      <td>21.600000</td>\n",
       "      <td>20.000000</td>\n",
       "      <td>22.100000</td>\n",
       "      <td>20.600000</td>\n",
       "      <td>19.390000</td>\n",
       "      <td>7.300000</td>\n",
       "      <td>20.000000</td>\n",
       "      <td>22.100000</td>\n",
       "      <td>19.390000</td>\n",
       "      <td>39.633333</td>\n",
       "      <td>...</td>\n",
       "      <td>42.397143</td>\n",
       "      <td>40.900000</td>\n",
       "      <td>6.900000</td>\n",
       "      <td>3.433333</td>\n",
       "      <td>84.000000</td>\n",
       "      <td>756.100000</td>\n",
       "      <td>3.666667</td>\n",
       "      <td>40.000000</td>\n",
       "      <td>24.930300</td>\n",
       "      <td>24.930300</td>\n",
       "    </tr>\n",
       "    <tr>\n",
       "      <th>75%</th>\n",
       "      <td>22.600000</td>\n",
       "      <td>21.500000</td>\n",
       "      <td>23.290000</td>\n",
       "      <td>22.100000</td>\n",
       "      <td>20.600000</td>\n",
       "      <td>11.233333</td>\n",
       "      <td>21.600000</td>\n",
       "      <td>23.390000</td>\n",
       "      <td>20.600000</td>\n",
       "      <td>43.060000</td>\n",
       "      <td>...</td>\n",
       "      <td>46.555000</td>\n",
       "      <td>44.363333</td>\n",
       "      <td>10.400000</td>\n",
       "      <td>6.583333</td>\n",
       "      <td>91.666667</td>\n",
       "      <td>760.966667</td>\n",
       "      <td>5.333333</td>\n",
       "      <td>40.000000</td>\n",
       "      <td>37.660334</td>\n",
       "      <td>37.660334</td>\n",
       "    </tr>\n",
       "    <tr>\n",
       "      <th>max</th>\n",
       "      <td>26.260000</td>\n",
       "      <td>29.856667</td>\n",
       "      <td>29.236000</td>\n",
       "      <td>26.200000</td>\n",
       "      <td>25.795000</td>\n",
       "      <td>28.290000</td>\n",
       "      <td>25.963333</td>\n",
       "      <td>27.230000</td>\n",
       "      <td>24.500000</td>\n",
       "      <td>57.423333</td>\n",
       "      <td>...</td>\n",
       "      <td>58.780000</td>\n",
       "      <td>53.326667</td>\n",
       "      <td>26.100000</td>\n",
       "      <td>15.400000</td>\n",
       "      <td>100.000000</td>\n",
       "      <td>772.283333</td>\n",
       "      <td>14.000000</td>\n",
       "      <td>66.000000</td>\n",
       "      <td>49.996530</td>\n",
       "      <td>49.996530</td>\n",
       "    </tr>\n",
       "  </tbody>\n",
       "</table>\n",
       "<p>8 rows × 26 columns</p>\n",
       "</div>"
      ]
     },
     "execution_count": 192,
     "metadata": {},
     "output_type": "execute_result"
    }
   ],
   "execution_count": 192
  },
  {
   "metadata": {},
   "cell_type": "code",
   "source": "_ = feature_vars.hist(bins=20, figsize=(12, 16))",
   "id": "bfa81a769243217a",
   "outputs": [],
   "execution_count": null
  },
  {
   "metadata": {
    "ExecuteTime": {
     "end_time": "2024-07-04T10:38:11.452816Z",
     "start_time": "2024-07-04T10:38:11.441871Z"
    }
   },
   "cell_type": "code",
   "source": [
    "train_X = train[feature_vars.columns]\n",
    "train_y = train[target_vars.columns]\n",
    "\n",
    "test_X = test[feature_vars.columns]\n",
    "test_y = test[target_vars.columns]"
   ],
   "id": "d7a2bea8ed0104eb",
   "outputs": [],
   "execution_count": 193
  },
  {
   "metadata": {
    "ExecuteTime": {
     "end_time": "2024-07-04T10:38:12.136319Z",
     "start_time": "2024-07-04T10:38:12.127910Z"
    }
   },
   "cell_type": "code",
   "source": [
    "train_X.drop([\"rv1\", \"rv2\", \"Visibility\", \"T9\", \"Tdewpoint\"], axis=1 , inplace=True)\n",
    "test_X.drop([\"rv1\", \"rv2\", \"Visibility\", \"T9\", \"Tdewpoint\"], axis=1, inplace=True)"
   ],
   "id": "b29908a5ec2866fd",
   "outputs": [
    {
     "name": "stderr",
     "output_type": "stream",
     "text": [
      "/var/folders/f9/14tklxs15kb0tml2fkmclqjc0000gn/T/ipykernel_57609/2794111772.py:1: SettingWithCopyWarning: \n",
      "A value is trying to be set on a copy of a slice from a DataFrame\n",
      "\n",
      "See the caveats in the documentation: https://pandas.pydata.org/pandas-docs/stable/user_guide/indexing.html#returning-a-view-versus-a-copy\n",
      "  train_X.drop([\"rv1\", \"rv2\", \"Visibility\", \"T9\", \"Tdewpoint\"], axis=1 , inplace=True)\n",
      "/var/folders/f9/14tklxs15kb0tml2fkmclqjc0000gn/T/ipykernel_57609/2794111772.py:2: SettingWithCopyWarning: \n",
      "A value is trying to be set on a copy of a slice from a DataFrame\n",
      "\n",
      "See the caveats in the documentation: https://pandas.pydata.org/pandas-docs/stable/user_guide/indexing.html#returning-a-view-versus-a-copy\n",
      "  test_X.drop([\"rv1\", \"rv2\", \"Visibility\", \"T9\", \"Tdewpoint\"], axis=1, inplace=True)\n"
     ]
    }
   ],
   "execution_count": 194
  },
  {
   "metadata": {},
   "cell_type": "markdown",
   "source": "### Perform scaling with Appliances column included",
   "id": "d7fb872fc0039b00"
  },
  {
   "metadata": {
    "ExecuteTime": {
     "end_time": "2024-07-04T10:38:14.087113Z",
     "start_time": "2024-07-04T10:38:14.082617Z"
    }
   },
   "cell_type": "code",
   "source": [
    "from sklearn.preprocessing import StandardScaler\n",
    "\n",
    "sc = StandardScaler(with_mean=False)"
   ],
   "id": "f80759364a1a833e",
   "outputs": [],
   "execution_count": 195
  },
  {
   "metadata": {
    "ExecuteTime": {
     "end_time": "2024-07-04T10:38:15.022308Z",
     "start_time": "2024-07-04T10:38:14.965533Z"
    }
   },
   "cell_type": "code",
   "source": [
    "# Create test and training set by including Appliances column\n",
    "train = train[list(train_X.columns.values) + col_target]\n",
    "test = test[list(test_X.columns.values) + col_target]\n",
    "\n",
    "# Create dummy test and training set to hold scaled values\n",
    "sc_train = pd.DataFrame(columns=train.columns, index=train.index)\n",
    "sc_train[sc_train.columns] = sc.fit_transform(train)\n",
    "\n",
    "sc_test = pd.DataFrame(columns=test.columns, index=test.index)\n",
    "sc_test[sc_test.columns] = sc.fit_transform(test)"
   ],
   "id": "838a14fd9e6a6a2e",
   "outputs": [],
   "execution_count": 196
  },
  {
   "metadata": {
    "ExecuteTime": {
     "end_time": "2024-07-04T10:38:15.866402Z",
     "start_time": "2024-07-04T10:38:15.857116Z"
    }
   },
   "cell_type": "code",
   "source": [
    "train_X = sc_train.drop(['Appliances'], axis=1)\n",
    "train_y = sc_train['Appliances']\n",
    "\n",
    "test_X = sc_test.drop(['Appliances'], axis=1)\n",
    "test_y = sc_test['Appliances']"
   ],
   "id": "5a34cdd80db47130",
   "outputs": [],
   "execution_count": 197
  },
  {
   "metadata": {},
   "cell_type": "markdown",
   "source": "## Models testing",
   "id": "523a3480a79092a9"
  },
  {
   "metadata": {
    "ExecuteTime": {
     "end_time": "2024-07-04T10:38:17.442068Z",
     "start_time": "2024-07-04T10:38:17.436951Z"
    }
   },
   "cell_type": "code",
   "source": [
    "def print_metrics(model, X_train, y_train, X_test, y_test):\n",
    "    print(f'Train R2 score: {r2_score(y_train, model.predict(X_train))}')\n",
    "    print(f'Test R2 score: {r2_score(y_test, model.predict(X_test))}')\n",
    "    \n",
    "    mse = mean_squared_error(y_test, model.predict(X_test))\n",
    "    print(f'Test RMSE score: {sqrt(mse)}')"
   ],
   "id": "e899b0e492a8409c",
   "outputs": [],
   "execution_count": 198
  },
  {
   "metadata": {},
   "cell_type": "markdown",
   "source": "### Gamma regressor",
   "id": "130130169c65e506"
  },
  {
   "metadata": {
    "ExecuteTime": {
     "end_time": "2024-07-04T10:38:26.597821Z",
     "start_time": "2024-07-04T10:38:26.349410Z"
    }
   },
   "cell_type": "code",
   "source": [
    "from sklearn.linear_model import GammaRegressor\n",
    "from sklearn.utils import column_or_1d\n",
    "\n",
    "gamma = GammaRegressor(max_iter=5000)\n",
    "\n",
    "start = time.time()\n",
    "gamma.fit(train_X, column_or_1d(train_y))\n",
    "end = time.time()\n",
    "print(f'Train time: {end - start}')"
   ],
   "id": "528b599c23347e9a",
   "outputs": [
    {
     "name": "stdout",
     "output_type": "stream",
     "text": [
      "Train time: 0.24423766136169434\n"
     ]
    }
   ],
   "execution_count": 199
  },
  {
   "metadata": {
    "ExecuteTime": {
     "end_time": "2024-07-04T10:38:27.768449Z",
     "start_time": "2024-07-04T10:38:27.751369Z"
    }
   },
   "cell_type": "code",
   "source": "print_metrics(gamma, train_X, train_y, test_X, test_y)",
   "id": "96dce589ec04df52",
   "outputs": [
    {
     "name": "stdout",
     "output_type": "stream",
     "text": [
      "Train R2 score: 0.055208994161055625\n",
      "Test R2 score: 0.05240442930404876\n",
      "Test RMSE score: 0.9734452068277657\n"
     ]
    }
   ],
   "execution_count": 200
  },
  {
   "metadata": {},
   "cell_type": "markdown",
   "source": "### Polynomial regressor",
   "id": "11e34026951556a5"
  },
  {
   "metadata": {
    "ExecuteTime": {
     "end_time": "2024-07-04T10:38:33.957052Z",
     "start_time": "2024-07-04T10:38:33.876003Z"
    }
   },
   "cell_type": "code",
   "source": [
    "from sklearn.preprocessing import PolynomialFeatures\n",
    "\n",
    "poly = PolynomialFeatures(degree=2)\n",
    "train_X_poly = poly.fit_transform(train_X)\n",
    "test_X_poly = poly.fit_transform(test_X)"
   ],
   "id": "d73ae2bc9b2b7d70",
   "outputs": [],
   "execution_count": 201
  },
  {
   "metadata": {
    "ExecuteTime": {
     "end_time": "2024-07-04T10:38:35.856060Z",
     "start_time": "2024-07-04T10:38:35.544753Z"
    }
   },
   "cell_type": "code",
   "source": [
    "from sklearn.linear_model import LinearRegression\n",
    "\n",
    "lr = LinearRegression()\n",
    "start = time.time()\n",
    "lr.fit(train_X_poly, train_y)\n",
    "end = time.time()\n",
    "print(f'Train time: {end - start}')"
   ],
   "id": "49201bc4bebbe979",
   "outputs": [
    {
     "name": "stdout",
     "output_type": "stream",
     "text": [
      "Train time: 0.30675601959228516\n"
     ]
    }
   ],
   "execution_count": 202
  },
  {
   "metadata": {
    "ExecuteTime": {
     "end_time": "2024-07-04T10:38:38.910844Z",
     "start_time": "2024-07-04T10:38:38.896029Z"
    }
   },
   "cell_type": "code",
   "source": "print_metrics(lr, train_X_poly, train_y, test_X_poly, test_y)",
   "id": "9a7857a533389476",
   "outputs": [
    {
     "name": "stdout",
     "output_type": "stream",
     "text": [
      "Train R2 score: 0.28757316261111976\n",
      "Test R2 score: 0.19107140124694144\n",
      "Test RMSE score: 0.8994045801267962\n"
     ]
    }
   ],
   "execution_count": 203
  },
  {
   "metadata": {},
   "cell_type": "markdown",
   "source": "### Inverse Gaussian regressor",
   "id": "fed9ecc3e07fc1a1"
  },
  {
   "metadata": {
    "ExecuteTime": {
     "end_time": "2024-07-04T10:38:44.787580Z",
     "start_time": "2024-07-04T10:38:44.531551Z"
    }
   },
   "cell_type": "code",
   "source": [
    "from sklearn.linear_model import TweedieRegressor\n",
    "\n",
    "inv_gaussian = TweedieRegressor(power=3, max_iter=5000)\n",
    "\n",
    "start = time.time()\n",
    "inv_gaussian.fit(train_X, column_or_1d(train_y))\n",
    "end = time.time()\n",
    "print(f'Train time: {end - start}')"
   ],
   "id": "6a71001ce5048480",
   "outputs": [
    {
     "name": "stdout",
     "output_type": "stream",
     "text": [
      "Train time: 0.2502450942993164\n"
     ]
    }
   ],
   "execution_count": 204
  },
  {
   "metadata": {
    "ExecuteTime": {
     "end_time": "2024-07-04T10:38:46.909840Z",
     "start_time": "2024-07-04T10:38:46.894835Z"
    }
   },
   "cell_type": "code",
   "source": "print_metrics(inv_gaussian, train_X, train_y, test_X, test_y)",
   "id": "7df525c46bd3dcdb",
   "outputs": [
    {
     "name": "stdout",
     "output_type": "stream",
     "text": [
      "Train R2 score: 0.05487534461571064\n",
      "Test R2 score: 0.050562880576359714\n",
      "Test RMSE score: 0.9743906400533825\n"
     ]
    }
   ],
   "execution_count": 205
  },
  {
   "metadata": {},
   "cell_type": "code",
   "outputs": [],
   "execution_count": null,
   "source": "",
   "id": "ee434783eab6269"
  }
 ],
 "metadata": {
  "kernelspec": {
   "display_name": "Python 3",
   "language": "python",
   "name": "python3"
  },
  "language_info": {
   "codemirror_mode": {
    "name": "ipython",
    "version": 2
   },
   "file_extension": ".py",
   "mimetype": "text/x-python",
   "name": "python",
   "nbconvert_exporter": "python",
   "pygments_lexer": "ipython2",
   "version": "2.7.6"
  }
 },
 "nbformat": 4,
 "nbformat_minor": 5
}
