{
 "cells": [
  {
   "metadata": {},
   "cell_type": "markdown",
   "source": "# Linear Regression Analysis",
   "id": "f45a9c6c8b27fd71"
  },
  {
   "metadata": {},
   "cell_type": "markdown",
   "source": [
    "Authors:\n",
    "* Federico Maria Cruciani\n",
    "* Héctor Ochoa Ortiz"
   ],
   "id": "1ebecb6e91e38d28"
  },
  {
   "metadata": {},
   "cell_type": "markdown",
   "source": "## Imports, setup",
   "id": "2e8db8c0e1e6af"
  },
  {
   "metadata": {
    "ExecuteTime": {
     "end_time": "2024-07-03T10:14:38.850266Z",
     "start_time": "2024-07-03T10:14:38.700742Z"
    }
   },
   "cell_type": "code",
   "source": [
    "import pandas as pd\n",
    "import xgboost as xgb\n",
    "from numpy import array\n",
    "from sklearn.model_selection import train_test_split\n",
    "from sklearn.metrics import confusion_matrix\n",
    "from sklearn.metrics import accuracy_score\n",
    "from sklearn.metrics import classification_report\n",
    "from urllib.request import urlretrieve"
   ],
   "id": "6607d3efbd609e7c",
   "outputs": [],
   "execution_count": 3
  },
  {
   "metadata": {},
   "cell_type": "markdown",
   "source": "## Training",
   "id": "599b378237a9a6a6"
  },
  {
   "metadata": {
    "ExecuteTime": {
     "end_time": "2024-07-03T11:05:11.341705Z",
     "start_time": "2024-07-03T11:05:11.261520Z"
    }
   },
   "cell_type": "code",
   "source": [
    "# Read the dataset\n",
    "df = pd.read_csv('../../dataset/KAG_energydata_complete.csv')"
   ],
   "id": "a4ece4016971c19b",
   "outputs": [],
   "execution_count": 30
  },
  {
   "metadata": {
    "ExecuteTime": {
     "end_time": "2024-07-03T11:05:11.989420Z",
     "start_time": "2024-07-03T11:05:11.983207Z"
    }
   },
   "cell_type": "code",
   "source": "df.dtypes",
   "id": "ebeb585f1d89efc4",
   "outputs": [
    {
     "data": {
      "text/plain": [
       "date            object\n",
       "Appliances       int64\n",
       "lights           int64\n",
       "T1             float64\n",
       "RH_1           float64\n",
       "T2             float64\n",
       "RH_2           float64\n",
       "T3             float64\n",
       "RH_3           float64\n",
       "T4             float64\n",
       "RH_4           float64\n",
       "T5             float64\n",
       "RH_5           float64\n",
       "T6             float64\n",
       "RH_6           float64\n",
       "T7             float64\n",
       "RH_7           float64\n",
       "T8             float64\n",
       "RH_8           float64\n",
       "T9             float64\n",
       "RH_9           float64\n",
       "T_out          float64\n",
       "Press_mm_hg    float64\n",
       "RH_out         float64\n",
       "Windspeed      float64\n",
       "Visibility     float64\n",
       "Tdewpoint      float64\n",
       "rv1            float64\n",
       "rv2            float64\n",
       "dtype: object"
      ]
     },
     "execution_count": 31,
     "metadata": {},
     "output_type": "execute_result"
    }
   ],
   "execution_count": 31
  },
  {
   "metadata": {
    "ExecuteTime": {
     "end_time": "2024-07-03T11:05:13.125271Z",
     "start_time": "2024-07-03T11:05:13.108253Z"
    }
   },
   "cell_type": "code",
   "source": [
    "# Extract hour and day of the week from the date, so we only keep numeric values\n",
    "df[\"date\"] = pd.to_datetime(df[\"date\"])\n",
    "df[\"hour\"] = df[\"date\"].dt.hour\n",
    "df[\"dayofweek\"] = df[\"date\"].dt.dayofweek\n",
    "df = df.drop(columns=[\"date\"])"
   ],
   "id": "99961595719b669f",
   "outputs": [],
   "execution_count": 32
  },
  {
   "metadata": {
    "ExecuteTime": {
     "end_time": "2024-07-03T11:05:14.316796Z",
     "start_time": "2024-07-03T11:05:14.303386Z"
    }
   },
   "cell_type": "code",
   "source": [
    "# Create train and test subsets\n",
    "df_train: pd.DataFrame\n",
    "df_test: pd.DataFrame\n",
    "df_train, df_test = train_test_split(df, test_size=.3, random_state=hash(\"ResearchMethodology2024\")%(2**32))\n",
    "print(df_train.shape, df_test.shape)"
   ],
   "id": "de034875ae620e9c",
   "outputs": [
    {
     "name": "stdout",
     "output_type": "stream",
     "text": [
      "(13814, 30) (5921, 30)\n"
     ]
    }
   ],
   "execution_count": 33
  },
  {
   "metadata": {
    "ExecuteTime": {
     "end_time": "2024-07-03T11:05:15.105998Z",
     "start_time": "2024-07-03T11:05:15.055288Z"
    }
   },
   "cell_type": "code",
   "source": [
    "# Transform to DMatrix\n",
    "train_matrix = xgb.DMatrix(df_train.drop(columns=[\"Appliances\"]), label=df_train[\"Appliances\"])\n",
    "test_matrix = xgb.DMatrix(df_test.drop(columns=[\"Appliances\"]), label=df_test[\"Appliances\"])"
   ],
   "id": "eb89612c0340acf5",
   "outputs": [],
   "execution_count": 34
  },
  {
   "metadata": {
    "ExecuteTime": {
     "end_time": "2024-07-03T11:14:21.016088Z",
     "start_time": "2024-07-03T11:14:21.011150Z"
    }
   },
   "cell_type": "code",
   "source": [
    "# Set training parameters\n",
    "training_parameters = {\n",
    "    \"booster\":\"gbtree\",\n",
    "    \"max_depth\": 2,\n",
    "    \"eta\": 0.3,\n",
    "    \"objective\": \"reg:squarederror\",\n",
    "    \"nthread\": 4\n",
    "}\n",
    "rounds = 100\n",
    "evaluations = [(test_matrix, \"eval\"), (train_matrix, \"train\")]"
   ],
   "id": "33d73b67d62d11fc",
   "outputs": [],
   "execution_count": 48
  },
  {
   "metadata": {
    "ExecuteTime": {
     "end_time": "2024-07-03T11:14:21.607693Z",
     "start_time": "2024-07-03T11:14:21.337446Z"
    }
   },
   "cell_type": "code",
   "source": [
    "# Train the model\n",
    "model = xgb.train(\n",
    "    params=training_parameters,\n",
    "    dtrain=train_matrix,\n",
    "    num_boost_round=rounds,\n",
    "    evals=evaluations)"
   ],
   "id": "9485e319af0b33f4",
   "outputs": [
    {
     "name": "stdout",
     "output_type": "stream",
     "text": [
      "[0]\teval-rmse:101.71758\ttrain-rmse:98.41002\n",
      "[1]\teval-rmse:99.89485\ttrain-rmse:96.76530\n",
      "[2]\teval-rmse:98.77043\ttrain-rmse:95.64862\n",
      "[3]\teval-rmse:97.77838\ttrain-rmse:94.78371\n",
      "[4]\teval-rmse:97.16216\ttrain-rmse:94.20067\n",
      "[5]\teval-rmse:96.62754\ttrain-rmse:93.70949\n",
      "[6]\teval-rmse:96.24996\ttrain-rmse:93.33637\n",
      "[7]\teval-rmse:95.88921\ttrain-rmse:92.96180\n",
      "[8]\teval-rmse:95.56095\ttrain-rmse:92.48555\n",
      "[9]\teval-rmse:95.36567\ttrain-rmse:92.26449\n",
      "[10]\teval-rmse:94.85964\ttrain-rmse:91.83256\n",
      "[11]\teval-rmse:94.39723\ttrain-rmse:91.43000\n",
      "[12]\teval-rmse:94.16449\ttrain-rmse:91.26605\n",
      "[13]\teval-rmse:93.83890\ttrain-rmse:90.98342\n",
      "[14]\teval-rmse:93.53357\ttrain-rmse:90.68957\n",
      "[15]\teval-rmse:93.33094\ttrain-rmse:90.54143\n",
      "[16]\teval-rmse:93.13480\ttrain-rmse:90.30334\n",
      "[17]\teval-rmse:92.88991\ttrain-rmse:89.99139\n",
      "[18]\teval-rmse:92.72686\ttrain-rmse:89.82293\n",
      "[19]\teval-rmse:92.57460\ttrain-rmse:89.57336\n",
      "[20]\teval-rmse:92.34472\ttrain-rmse:89.29889\n",
      "[21]\teval-rmse:92.21273\ttrain-rmse:89.10319\n",
      "[22]\teval-rmse:91.92052\ttrain-rmse:88.89292\n",
      "[23]\teval-rmse:91.66616\ttrain-rmse:88.62693\n",
      "[24]\teval-rmse:91.57355\ttrain-rmse:88.47155\n",
      "[25]\teval-rmse:91.42121\ttrain-rmse:88.25744\n",
      "[26]\teval-rmse:91.25797\ttrain-rmse:88.09417\n",
      "[27]\teval-rmse:91.15863\ttrain-rmse:87.98898\n",
      "[28]\teval-rmse:91.13446\ttrain-rmse:87.92701\n",
      "[29]\teval-rmse:90.97436\ttrain-rmse:87.70591\n",
      "[30]\teval-rmse:90.79654\ttrain-rmse:87.52926\n",
      "[31]\teval-rmse:90.72192\ttrain-rmse:87.46237\n",
      "[32]\teval-rmse:90.63584\ttrain-rmse:87.34518\n",
      "[33]\teval-rmse:90.56158\ttrain-rmse:87.19041\n",
      "[34]\teval-rmse:90.47914\ttrain-rmse:87.07047\n",
      "[35]\teval-rmse:90.43547\ttrain-rmse:86.97168\n",
      "[36]\teval-rmse:90.35273\ttrain-rmse:86.81514\n",
      "[37]\teval-rmse:90.22840\ttrain-rmse:86.67646\n",
      "[38]\teval-rmse:90.20985\ttrain-rmse:86.62229\n",
      "[39]\teval-rmse:90.10608\ttrain-rmse:86.44011\n",
      "[40]\teval-rmse:90.03199\ttrain-rmse:86.31321\n",
      "[41]\teval-rmse:89.90927\ttrain-rmse:86.20533\n",
      "[42]\teval-rmse:89.88450\ttrain-rmse:86.16784\n",
      "[43]\teval-rmse:89.84330\ttrain-rmse:86.04382\n",
      "[44]\teval-rmse:89.79703\ttrain-rmse:85.90989\n",
      "[45]\teval-rmse:89.57542\ttrain-rmse:85.73060\n",
      "[46]\teval-rmse:89.45465\ttrain-rmse:85.59641\n",
      "[47]\teval-rmse:89.35194\ttrain-rmse:85.49265\n",
      "[48]\teval-rmse:89.28031\ttrain-rmse:85.36872\n",
      "[49]\teval-rmse:89.20858\ttrain-rmse:85.25124\n",
      "[50]\teval-rmse:89.13024\ttrain-rmse:85.13761\n",
      "[51]\teval-rmse:89.10451\ttrain-rmse:85.06087\n",
      "[52]\teval-rmse:89.00441\ttrain-rmse:84.95859\n",
      "[53]\teval-rmse:88.90100\ttrain-rmse:84.84215\n",
      "[54]\teval-rmse:88.77917\ttrain-rmse:84.74226\n",
      "[55]\teval-rmse:88.69285\ttrain-rmse:84.64676\n",
      "[56]\teval-rmse:88.63274\ttrain-rmse:84.55000\n",
      "[57]\teval-rmse:88.55579\ttrain-rmse:84.46697\n",
      "[58]\teval-rmse:88.51649\ttrain-rmse:84.40824\n",
      "[59]\teval-rmse:88.43917\ttrain-rmse:84.32983\n",
      "[60]\teval-rmse:88.34864\ttrain-rmse:84.20463\n",
      "[61]\teval-rmse:88.28594\ttrain-rmse:84.11001\n",
      "[62]\teval-rmse:88.24469\ttrain-rmse:84.01036\n",
      "[63]\teval-rmse:88.14523\ttrain-rmse:83.92161\n",
      "[64]\teval-rmse:88.08489\ttrain-rmse:83.84127\n",
      "[65]\teval-rmse:88.00813\ttrain-rmse:83.74331\n",
      "[66]\teval-rmse:87.97105\ttrain-rmse:83.67930\n",
      "[67]\teval-rmse:87.96034\ttrain-rmse:83.60682\n",
      "[68]\teval-rmse:87.88345\ttrain-rmse:83.46845\n",
      "[69]\teval-rmse:87.86722\ttrain-rmse:83.39961\n",
      "[70]\teval-rmse:87.84896\ttrain-rmse:83.35893\n",
      "[71]\teval-rmse:87.81779\ttrain-rmse:83.29127\n",
      "[72]\teval-rmse:87.79316\ttrain-rmse:83.23859\n",
      "[73]\teval-rmse:87.78488\ttrain-rmse:83.21746\n",
      "[74]\teval-rmse:87.71016\ttrain-rmse:83.11673\n",
      "[75]\teval-rmse:87.67778\ttrain-rmse:83.06047\n",
      "[76]\teval-rmse:87.60533\ttrain-rmse:82.98518\n",
      "[77]\teval-rmse:87.56271\ttrain-rmse:82.86969\n",
      "[78]\teval-rmse:87.55019\ttrain-rmse:82.81647\n",
      "[79]\teval-rmse:87.50977\ttrain-rmse:82.75845\n",
      "[80]\teval-rmse:87.41257\ttrain-rmse:82.69086\n",
      "[81]\teval-rmse:87.38699\ttrain-rmse:82.62643\n",
      "[82]\teval-rmse:87.38029\ttrain-rmse:82.56715\n",
      "[83]\teval-rmse:87.38206\ttrain-rmse:82.50881\n",
      "[84]\teval-rmse:87.30015\ttrain-rmse:82.41775\n",
      "[85]\teval-rmse:87.24559\ttrain-rmse:82.35466\n",
      "[86]\teval-rmse:87.22640\ttrain-rmse:82.31684\n",
      "[87]\teval-rmse:87.19732\ttrain-rmse:82.26686\n",
      "[88]\teval-rmse:87.16186\ttrain-rmse:82.17969\n",
      "[89]\teval-rmse:87.16752\ttrain-rmse:82.05384\n",
      "[90]\teval-rmse:87.15972\ttrain-rmse:81.99998\n",
      "[91]\teval-rmse:87.12110\ttrain-rmse:81.94737\n",
      "[92]\teval-rmse:87.09439\ttrain-rmse:81.92166\n",
      "[93]\teval-rmse:87.02304\ttrain-rmse:81.87465\n",
      "[94]\teval-rmse:87.01029\ttrain-rmse:81.81060\n",
      "[95]\teval-rmse:86.96949\ttrain-rmse:81.73822\n",
      "[96]\teval-rmse:86.83950\ttrain-rmse:81.65473\n",
      "[97]\teval-rmse:86.71721\ttrain-rmse:81.57746\n",
      "[98]\teval-rmse:86.67870\ttrain-rmse:81.54090\n",
      "[99]\teval-rmse:86.62294\ttrain-rmse:81.47005\n"
     ]
    }
   ],
   "execution_count": 49
  },
  {
   "metadata": {},
   "cell_type": "code",
   "outputs": [],
   "execution_count": null,
   "source": "",
   "id": "29dec22d62503179"
  }
 ],
 "metadata": {
  "kernelspec": {
   "display_name": "Python 3",
   "language": "python",
   "name": "python3"
  },
  "language_info": {
   "codemirror_mode": {
    "name": "ipython",
    "version": 2
   },
   "file_extension": ".py",
   "mimetype": "text/x-python",
   "name": "python",
   "nbconvert_exporter": "python",
   "pygments_lexer": "ipython2",
   "version": "2.7.6"
  }
 },
 "nbformat": 4,
 "nbformat_minor": 5
}
