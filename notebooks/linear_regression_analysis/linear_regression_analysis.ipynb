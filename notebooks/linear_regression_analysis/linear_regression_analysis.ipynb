{
 "cells": [
  {
   "metadata": {},
   "cell_type": "markdown",
   "source": "# Linear Regression Analysis",
   "id": "f45a9c6c8b27fd71"
  },
  {
   "metadata": {},
   "cell_type": "markdown",
   "source": [
    "Authors:\n",
    "* Federico Maria Cruciani\n",
    "* Héctor Ochoa Ortiz"
   ],
   "id": "1ebecb6e91e38d28"
  },
  {
   "metadata": {
    "ExecuteTime": {
     "end_time": "2024-07-01T19:32:59.192071Z",
     "start_time": "2024-07-01T19:32:59.188736Z"
    }
   },
   "cell_type": "code",
   "source": "import pandas as pd",
   "id": "6607d3efbd609e7c",
   "outputs": [],
   "execution_count": 2
  },
  {
   "metadata": {
    "ExecuteTime": {
     "end_time": "2024-07-01T19:33:00.766847Z",
     "start_time": "2024-07-01T19:33:00.672939Z"
    }
   },
   "cell_type": "code",
   "source": "df = pd.read_csv('../../dataset/KAG_energydata_complete.csv')",
   "id": "a4ece4016971c19b",
   "outputs": [],
   "execution_count": 3
  },
  {
   "metadata": {},
   "cell_type": "code",
   "outputs": [],
   "execution_count": null,
   "source": "",
   "id": "99961595719b669f"
  }
 ],
 "metadata": {
  "kernelspec": {
   "display_name": "Python 3",
   "language": "python",
   "name": "python3"
  },
  "language_info": {
   "codemirror_mode": {
    "name": "ipython",
    "version": 2
   },
   "file_extension": ".py",
   "mimetype": "text/x-python",
   "name": "python",
   "nbconvert_exporter": "python",
   "pygments_lexer": "ipython2",
   "version": "2.7.6"
  }
 },
 "nbformat": 4,
 "nbformat_minor": 5
}
